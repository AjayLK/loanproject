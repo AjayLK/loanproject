{
 "cells": [
  {
   "cell_type": "markdown",
   "id": "65b83811",
   "metadata": {},
   "source": [
    "# Logistic Regression - Loan model "
   ]
  },
  {
   "cell_type": "code",
   "execution_count": 1,
   "id": "02dba379",
   "metadata": {},
   "outputs": [],
   "source": [
    "import numpy as np\n",
    "import pandas as pd\n",
    "\n",
    "import matplotlib.pyplot as plt\n",
    "import seaborn as sns\n",
    "\n",
    "from sklearn.linear_model import LogisticRegression\n",
    "from sklearn.model_selection import train_test_split\n",
    "from sklearn.metrics import classification_report,confusion_matrix,accuracy_score\n",
    "from sklearn.metrics import precision_score,recall_score,f1_score\n",
    "from sklearn.metrics import plot_confusion_matrix,roc_curve\n",
    "from sklearn.preprocessing import LabelEncoder,OneHotEncoder\n",
    "from sklearn import preprocessing\n",
    "\n",
    "import warnings\n",
    "warnings.filterwarnings('ignore')"
   ]
  },
  {
   "cell_type": "markdown",
   "id": "2d14de6e",
   "metadata": {},
   "source": [
    "# Problem Statemet"
   ]
  },
  {
   "cell_type": "raw",
   "id": "65560076",
   "metadata": {},
   "source": [
    "To predicting whether loan paid or not by using various features"
   ]
  },
  {
   "cell_type": "markdown",
   "id": "9457ba28",
   "metadata": {},
   "source": [
    "# Data Gathering"
   ]
  },
  {
   "cell_type": "code",
   "execution_count": 2,
   "id": "f8dd6dce",
   "metadata": {},
   "outputs": [
    {
     "data": {
      "text/html": [
       "<div>\n",
       "<style scoped>\n",
       "    .dataframe tbody tr th:only-of-type {\n",
       "        vertical-align: middle;\n",
       "    }\n",
       "\n",
       "    .dataframe tbody tr th {\n",
       "        vertical-align: top;\n",
       "    }\n",
       "\n",
       "    .dataframe thead th {\n",
       "        text-align: right;\n",
       "    }\n",
       "</style>\n",
       "<table border=\"1\" class=\"dataframe\">\n",
       "  <thead>\n",
       "    <tr style=\"text-align: right;\">\n",
       "      <th></th>\n",
       "      <th>credit.policy</th>\n",
       "      <th>purpose</th>\n",
       "      <th>int.rate</th>\n",
       "      <th>installment</th>\n",
       "      <th>log.annual.inc</th>\n",
       "      <th>dti</th>\n",
       "      <th>fico</th>\n",
       "      <th>days.with.cr.line</th>\n",
       "      <th>revol.bal</th>\n",
       "      <th>revol.util</th>\n",
       "      <th>inq.last.6mths</th>\n",
       "      <th>delinq.2yrs</th>\n",
       "      <th>pub.rec</th>\n",
       "      <th>not.fully.paid</th>\n",
       "    </tr>\n",
       "  </thead>\n",
       "  <tbody>\n",
       "    <tr>\n",
       "      <th>0</th>\n",
       "      <td>1</td>\n",
       "      <td>debt_consolidation</td>\n",
       "      <td>0.1189</td>\n",
       "      <td>829.10</td>\n",
       "      <td>11.350407</td>\n",
       "      <td>19.48</td>\n",
       "      <td>737</td>\n",
       "      <td>5639.958333</td>\n",
       "      <td>28854</td>\n",
       "      <td>52.1</td>\n",
       "      <td>0</td>\n",
       "      <td>0</td>\n",
       "      <td>0</td>\n",
       "      <td>0</td>\n",
       "    </tr>\n",
       "    <tr>\n",
       "      <th>1</th>\n",
       "      <td>1</td>\n",
       "      <td>credit_card</td>\n",
       "      <td>0.1071</td>\n",
       "      <td>228.22</td>\n",
       "      <td>11.082143</td>\n",
       "      <td>14.29</td>\n",
       "      <td>707</td>\n",
       "      <td>2760.000000</td>\n",
       "      <td>33623</td>\n",
       "      <td>76.7</td>\n",
       "      <td>0</td>\n",
       "      <td>0</td>\n",
       "      <td>0</td>\n",
       "      <td>0</td>\n",
       "    </tr>\n",
       "    <tr>\n",
       "      <th>2</th>\n",
       "      <td>1</td>\n",
       "      <td>debt_consolidation</td>\n",
       "      <td>0.1357</td>\n",
       "      <td>366.86</td>\n",
       "      <td>10.373491</td>\n",
       "      <td>11.63</td>\n",
       "      <td>682</td>\n",
       "      <td>4710.000000</td>\n",
       "      <td>3511</td>\n",
       "      <td>25.6</td>\n",
       "      <td>1</td>\n",
       "      <td>0</td>\n",
       "      <td>0</td>\n",
       "      <td>0</td>\n",
       "    </tr>\n",
       "    <tr>\n",
       "      <th>3</th>\n",
       "      <td>1</td>\n",
       "      <td>debt_consolidation</td>\n",
       "      <td>0.1008</td>\n",
       "      <td>162.34</td>\n",
       "      <td>11.350407</td>\n",
       "      <td>8.10</td>\n",
       "      <td>712</td>\n",
       "      <td>2699.958333</td>\n",
       "      <td>33667</td>\n",
       "      <td>73.2</td>\n",
       "      <td>1</td>\n",
       "      <td>0</td>\n",
       "      <td>0</td>\n",
       "      <td>0</td>\n",
       "    </tr>\n",
       "    <tr>\n",
       "      <th>4</th>\n",
       "      <td>1</td>\n",
       "      <td>credit_card</td>\n",
       "      <td>0.1426</td>\n",
       "      <td>102.92</td>\n",
       "      <td>11.299732</td>\n",
       "      <td>14.97</td>\n",
       "      <td>667</td>\n",
       "      <td>4066.000000</td>\n",
       "      <td>4740</td>\n",
       "      <td>39.5</td>\n",
       "      <td>0</td>\n",
       "      <td>1</td>\n",
       "      <td>0</td>\n",
       "      <td>0</td>\n",
       "    </tr>\n",
       "    <tr>\n",
       "      <th>...</th>\n",
       "      <td>...</td>\n",
       "      <td>...</td>\n",
       "      <td>...</td>\n",
       "      <td>...</td>\n",
       "      <td>...</td>\n",
       "      <td>...</td>\n",
       "      <td>...</td>\n",
       "      <td>...</td>\n",
       "      <td>...</td>\n",
       "      <td>...</td>\n",
       "      <td>...</td>\n",
       "      <td>...</td>\n",
       "      <td>...</td>\n",
       "      <td>...</td>\n",
       "    </tr>\n",
       "    <tr>\n",
       "      <th>9573</th>\n",
       "      <td>0</td>\n",
       "      <td>all_other</td>\n",
       "      <td>0.1461</td>\n",
       "      <td>344.76</td>\n",
       "      <td>12.180755</td>\n",
       "      <td>10.39</td>\n",
       "      <td>672</td>\n",
       "      <td>10474.000000</td>\n",
       "      <td>215372</td>\n",
       "      <td>82.1</td>\n",
       "      <td>2</td>\n",
       "      <td>0</td>\n",
       "      <td>0</td>\n",
       "      <td>1</td>\n",
       "    </tr>\n",
       "    <tr>\n",
       "      <th>9574</th>\n",
       "      <td>0</td>\n",
       "      <td>all_other</td>\n",
       "      <td>0.1253</td>\n",
       "      <td>257.70</td>\n",
       "      <td>11.141862</td>\n",
       "      <td>0.21</td>\n",
       "      <td>722</td>\n",
       "      <td>4380.000000</td>\n",
       "      <td>184</td>\n",
       "      <td>1.1</td>\n",
       "      <td>5</td>\n",
       "      <td>0</td>\n",
       "      <td>0</td>\n",
       "      <td>1</td>\n",
       "    </tr>\n",
       "    <tr>\n",
       "      <th>9575</th>\n",
       "      <td>0</td>\n",
       "      <td>debt_consolidation</td>\n",
       "      <td>0.1071</td>\n",
       "      <td>97.81</td>\n",
       "      <td>10.596635</td>\n",
       "      <td>13.09</td>\n",
       "      <td>687</td>\n",
       "      <td>3450.041667</td>\n",
       "      <td>10036</td>\n",
       "      <td>82.9</td>\n",
       "      <td>8</td>\n",
       "      <td>0</td>\n",
       "      <td>0</td>\n",
       "      <td>1</td>\n",
       "    </tr>\n",
       "    <tr>\n",
       "      <th>9576</th>\n",
       "      <td>0</td>\n",
       "      <td>home_improvement</td>\n",
       "      <td>0.1600</td>\n",
       "      <td>351.58</td>\n",
       "      <td>10.819778</td>\n",
       "      <td>19.18</td>\n",
       "      <td>692</td>\n",
       "      <td>1800.000000</td>\n",
       "      <td>0</td>\n",
       "      <td>3.2</td>\n",
       "      <td>5</td>\n",
       "      <td>0</td>\n",
       "      <td>0</td>\n",
       "      <td>1</td>\n",
       "    </tr>\n",
       "    <tr>\n",
       "      <th>9577</th>\n",
       "      <td>0</td>\n",
       "      <td>debt_consolidation</td>\n",
       "      <td>0.1392</td>\n",
       "      <td>853.43</td>\n",
       "      <td>11.264464</td>\n",
       "      <td>16.28</td>\n",
       "      <td>732</td>\n",
       "      <td>4740.000000</td>\n",
       "      <td>37879</td>\n",
       "      <td>57.0</td>\n",
       "      <td>6</td>\n",
       "      <td>0</td>\n",
       "      <td>0</td>\n",
       "      <td>1</td>\n",
       "    </tr>\n",
       "  </tbody>\n",
       "</table>\n",
       "<p>9578 rows × 14 columns</p>\n",
       "</div>"
      ],
      "text/plain": [
       "      credit.policy             purpose  int.rate  installment  \\\n",
       "0                 1  debt_consolidation    0.1189       829.10   \n",
       "1                 1         credit_card    0.1071       228.22   \n",
       "2                 1  debt_consolidation    0.1357       366.86   \n",
       "3                 1  debt_consolidation    0.1008       162.34   \n",
       "4                 1         credit_card    0.1426       102.92   \n",
       "...             ...                 ...       ...          ...   \n",
       "9573              0           all_other    0.1461       344.76   \n",
       "9574              0           all_other    0.1253       257.70   \n",
       "9575              0  debt_consolidation    0.1071        97.81   \n",
       "9576              0    home_improvement    0.1600       351.58   \n",
       "9577              0  debt_consolidation    0.1392       853.43   \n",
       "\n",
       "      log.annual.inc    dti  fico  days.with.cr.line  revol.bal  revol.util  \\\n",
       "0          11.350407  19.48   737        5639.958333      28854        52.1   \n",
       "1          11.082143  14.29   707        2760.000000      33623        76.7   \n",
       "2          10.373491  11.63   682        4710.000000       3511        25.6   \n",
       "3          11.350407   8.10   712        2699.958333      33667        73.2   \n",
       "4          11.299732  14.97   667        4066.000000       4740        39.5   \n",
       "...              ...    ...   ...                ...        ...         ...   \n",
       "9573       12.180755  10.39   672       10474.000000     215372        82.1   \n",
       "9574       11.141862   0.21   722        4380.000000        184         1.1   \n",
       "9575       10.596635  13.09   687        3450.041667      10036        82.9   \n",
       "9576       10.819778  19.18   692        1800.000000          0         3.2   \n",
       "9577       11.264464  16.28   732        4740.000000      37879        57.0   \n",
       "\n",
       "      inq.last.6mths  delinq.2yrs  pub.rec  not.fully.paid  \n",
       "0                  0            0        0               0  \n",
       "1                  0            0        0               0  \n",
       "2                  1            0        0               0  \n",
       "3                  1            0        0               0  \n",
       "4                  0            1        0               0  \n",
       "...              ...          ...      ...             ...  \n",
       "9573               2            0        0               1  \n",
       "9574               5            0        0               1  \n",
       "9575               8            0        0               1  \n",
       "9576               5            0        0               1  \n",
       "9577               6            0        0               1  \n",
       "\n",
       "[9578 rows x 14 columns]"
      ]
     },
     "execution_count": 2,
     "metadata": {},
     "output_type": "execute_result"
    }
   ],
   "source": [
    "df = pd.read_csv('loan_data.csv.')\n",
    "df"
   ]
  },
  {
   "cell_type": "markdown",
   "id": "ec41e60d",
   "metadata": {},
   "source": [
    "# Exploratorary Data Analysis"
   ]
  },
  {
   "cell_type": "code",
   "execution_count": 3,
   "id": "603509fa",
   "metadata": {},
   "outputs": [
    {
     "name": "stdout",
     "output_type": "stream",
     "text": [
      "<class 'pandas.core.frame.DataFrame'>\n",
      "RangeIndex: 9578 entries, 0 to 9577\n",
      "Data columns (total 14 columns):\n",
      " #   Column             Non-Null Count  Dtype  \n",
      "---  ------             --------------  -----  \n",
      " 0   credit.policy      9578 non-null   int64  \n",
      " 1   purpose            9578 non-null   object \n",
      " 2   int.rate           9578 non-null   float64\n",
      " 3   installment        9578 non-null   float64\n",
      " 4   log.annual.inc     9578 non-null   float64\n",
      " 5   dti                9578 non-null   float64\n",
      " 6   fico               9578 non-null   int64  \n",
      " 7   days.with.cr.line  9578 non-null   float64\n",
      " 8   revol.bal          9578 non-null   int64  \n",
      " 9   revol.util         9578 non-null   float64\n",
      " 10  inq.last.6mths     9578 non-null   int64  \n",
      " 11  delinq.2yrs        9578 non-null   int64  \n",
      " 12  pub.rec            9578 non-null   int64  \n",
      " 13  not.fully.paid     9578 non-null   int64  \n",
      "dtypes: float64(6), int64(7), object(1)\n",
      "memory usage: 1.0+ MB\n"
     ]
    }
   ],
   "source": [
    "df.info()"
   ]
  },
  {
   "cell_type": "code",
   "execution_count": 4,
   "id": "791890a3",
   "metadata": {},
   "outputs": [
    {
     "data": {
      "text/plain": [
       "credit.policy        0\n",
       "purpose              0\n",
       "int.rate             0\n",
       "installment          0\n",
       "log.annual.inc       0\n",
       "dti                  0\n",
       "fico                 0\n",
       "days.with.cr.line    0\n",
       "revol.bal            0\n",
       "revol.util           0\n",
       "inq.last.6mths       0\n",
       "delinq.2yrs          0\n",
       "pub.rec              0\n",
       "not.fully.paid       0\n",
       "dtype: int64"
      ]
     },
     "execution_count": 4,
     "metadata": {},
     "output_type": "execute_result"
    }
   ],
   "source": [
    "df.isna().sum()"
   ]
  },
  {
   "cell_type": "markdown",
   "id": "c46c61b3",
   "metadata": {},
   "source": [
    "### credit.policy"
   ]
  },
  {
   "cell_type": "code",
   "execution_count": 5,
   "id": "6f6dd7aa",
   "metadata": {},
   "outputs": [
    {
     "data": {
      "text/plain": [
       "0       1\n",
       "1       1\n",
       "2       1\n",
       "3       1\n",
       "4       1\n",
       "       ..\n",
       "9573    0\n",
       "9574    0\n",
       "9575    0\n",
       "9576    0\n",
       "9577    0\n",
       "Name: credit.policy, Length: 9578, dtype: int64"
      ]
     },
     "execution_count": 5,
     "metadata": {},
     "output_type": "execute_result"
    }
   ],
   "source": [
    "df['credit.policy']"
   ]
  },
  {
   "cell_type": "code",
   "execution_count": 6,
   "id": "71a5964b",
   "metadata": {},
   "outputs": [
    {
     "data": {
      "text/plain": [
       "1    7710\n",
       "0    1868\n",
       "Name: credit.policy, dtype: int64"
      ]
     },
     "execution_count": 6,
     "metadata": {},
     "output_type": "execute_result"
    }
   ],
   "source": [
    "df['credit.policy'].value_counts()"
   ]
  },
  {
   "cell_type": "code",
   "execution_count": 7,
   "id": "8f1c45cd",
   "metadata": {},
   "outputs": [
    {
     "data": {
      "text/plain": [
       "{'LendingClub.com': 1, 'otherwise': 0}"
      ]
     },
     "execution_count": 7,
     "metadata": {},
     "output_type": "execute_result"
    }
   ],
   "source": [
    "cre_pol_dict = {'LendingClub.com':1,'otherwise':0}\n",
    "cre_pol_dict"
   ]
  },
  {
   "cell_type": "code",
   "execution_count": 8,
   "id": "926e7310",
   "metadata": {},
   "outputs": [
    {
     "name": "stdout",
     "output_type": "stream",
     "text": [
      "<class 'pandas.core.frame.DataFrame'>\n",
      "RangeIndex: 9578 entries, 0 to 9577\n",
      "Data columns (total 14 columns):\n",
      " #   Column             Non-Null Count  Dtype  \n",
      "---  ------             --------------  -----  \n",
      " 0   credit.policy      9578 non-null   int64  \n",
      " 1   purpose            9578 non-null   object \n",
      " 2   int.rate           9578 non-null   float64\n",
      " 3   installment        9578 non-null   float64\n",
      " 4   log.annual.inc     9578 non-null   float64\n",
      " 5   dti                9578 non-null   float64\n",
      " 6   fico               9578 non-null   int64  \n",
      " 7   days.with.cr.line  9578 non-null   float64\n",
      " 8   revol.bal          9578 non-null   int64  \n",
      " 9   revol.util         9578 non-null   float64\n",
      " 10  inq.last.6mths     9578 non-null   int64  \n",
      " 11  delinq.2yrs        9578 non-null   int64  \n",
      " 12  pub.rec            9578 non-null   int64  \n",
      " 13  not.fully.paid     9578 non-null   int64  \n",
      "dtypes: float64(6), int64(7), object(1)\n",
      "memory usage: 1.0+ MB\n"
     ]
    }
   ],
   "source": [
    "df.info()"
   ]
  },
  {
   "cell_type": "markdown",
   "id": "eb3a42f8",
   "metadata": {},
   "source": [
    "### purpose"
   ]
  },
  {
   "cell_type": "code",
   "execution_count": 9,
   "id": "7371c2b5",
   "metadata": {},
   "outputs": [
    {
     "data": {
      "text/plain": [
       "0       debt_consolidation\n",
       "1              credit_card\n",
       "2       debt_consolidation\n",
       "3       debt_consolidation\n",
       "4              credit_card\n",
       "               ...        \n",
       "9573             all_other\n",
       "9574             all_other\n",
       "9575    debt_consolidation\n",
       "9576      home_improvement\n",
       "9577    debt_consolidation\n",
       "Name: purpose, Length: 9578, dtype: object"
      ]
     },
     "execution_count": 9,
     "metadata": {},
     "output_type": "execute_result"
    }
   ],
   "source": [
    "df['purpose']"
   ]
  },
  {
   "cell_type": "code",
   "execution_count": 10,
   "id": "6690e65f",
   "metadata": {},
   "outputs": [
    {
     "data": {
      "text/plain": [
       "debt_consolidation    3957\n",
       "all_other             2331\n",
       "credit_card           1262\n",
       "home_improvement       629\n",
       "small_business         619\n",
       "major_purchase         437\n",
       "educational            343\n",
       "Name: purpose, dtype: int64"
      ]
     },
     "execution_count": 10,
     "metadata": {},
     "output_type": "execute_result"
    }
   ],
   "source": [
    "df['purpose'].value_counts()"
   ]
  },
  {
   "cell_type": "code",
   "execution_count": 11,
   "id": "6aab6582",
   "metadata": {},
   "outputs": [
    {
     "data": {
      "text/plain": [
       "{'debt_consolidation': 3957,\n",
       " 'all_other': 2331,\n",
       " 'credit_card': 1262,\n",
       " 'home_improvement': 629,\n",
       " 'small_business': 619,\n",
       " 'major_purchase': 437,\n",
       " 'educational': 343}"
      ]
     },
     "execution_count": 11,
     "metadata": {},
     "output_type": "execute_result"
    }
   ],
   "source": [
    "df['purpose'].value_counts().to_dict()"
   ]
  },
  {
   "cell_type": "code",
   "execution_count": 12,
   "id": "c513d21b",
   "metadata": {},
   "outputs": [],
   "source": [
    "label_encoder = preprocessing.LabelEncoder()\n",
    "df['purpose'] = label_encoder.fit_transform(df['purpose'])"
   ]
  },
  {
   "cell_type": "code",
   "execution_count": 13,
   "id": "cda38852",
   "metadata": {},
   "outputs": [
    {
     "data": {
      "text/plain": [
       "2    3957\n",
       "0    2331\n",
       "1    1262\n",
       "4     629\n",
       "6     619\n",
       "5     437\n",
       "3     343\n",
       "Name: purpose, dtype: int64"
      ]
     },
     "execution_count": 13,
     "metadata": {},
     "output_type": "execute_result"
    }
   ],
   "source": [
    "df['purpose'].value_counts()"
   ]
  },
  {
   "cell_type": "code",
   "execution_count": 14,
   "id": "198be5a4",
   "metadata": {},
   "outputs": [
    {
     "data": {
      "text/plain": [
       "{'debt_consolidation': 2,\n",
       " 'all_other': 0,\n",
       " 'credit_card': 1,\n",
       " 'home_improvement': 4,\n",
       " 'small_business': 6,\n",
       " 'major_purchase': 5,\n",
       " 'educational': 3}"
      ]
     },
     "execution_count": 14,
     "metadata": {},
     "output_type": "execute_result"
    }
   ],
   "source": [
    "purpose_dict = {'debt_consolidation': 2,\n",
    " 'all_other': 0,\n",
    " 'credit_card': 1,\n",
    " 'home_improvement': 4,\n",
    " 'small_business': 6,\n",
    " 'major_purchase': 5,\n",
    " 'educational': 3}\n",
    "purpose_dict"
   ]
  },
  {
   "cell_type": "code",
   "execution_count": 15,
   "id": "ad00ec9e",
   "metadata": {},
   "outputs": [
    {
     "name": "stdout",
     "output_type": "stream",
     "text": [
      "<class 'pandas.core.frame.DataFrame'>\n",
      "RangeIndex: 9578 entries, 0 to 9577\n",
      "Data columns (total 14 columns):\n",
      " #   Column             Non-Null Count  Dtype  \n",
      "---  ------             --------------  -----  \n",
      " 0   credit.policy      9578 non-null   int64  \n",
      " 1   purpose            9578 non-null   int32  \n",
      " 2   int.rate           9578 non-null   float64\n",
      " 3   installment        9578 non-null   float64\n",
      " 4   log.annual.inc     9578 non-null   float64\n",
      " 5   dti                9578 non-null   float64\n",
      " 6   fico               9578 non-null   int64  \n",
      " 7   days.with.cr.line  9578 non-null   float64\n",
      " 8   revol.bal          9578 non-null   int64  \n",
      " 9   revol.util         9578 non-null   float64\n",
      " 10  inq.last.6mths     9578 non-null   int64  \n",
      " 11  delinq.2yrs        9578 non-null   int64  \n",
      " 12  pub.rec            9578 non-null   int64  \n",
      " 13  not.fully.paid     9578 non-null   int64  \n",
      "dtypes: float64(6), int32(1), int64(7)\n",
      "memory usage: 1010.3 KB\n"
     ]
    }
   ],
   "source": [
    "df.info()"
   ]
  },
  {
   "cell_type": "markdown",
   "id": "edeb3937",
   "metadata": {},
   "source": [
    "### int.rate"
   ]
  },
  {
   "cell_type": "code",
   "execution_count": 16,
   "id": "d774f3e0",
   "metadata": {},
   "outputs": [
    {
     "data": {
      "text/plain": [
       "0       0.1189\n",
       "1       0.1071\n",
       "2       0.1357\n",
       "3       0.1008\n",
       "4       0.1426\n",
       "         ...  \n",
       "9573    0.1461\n",
       "9574    0.1253\n",
       "9575    0.1071\n",
       "9576    0.1600\n",
       "9577    0.1392\n",
       "Name: int.rate, Length: 9578, dtype: float64"
      ]
     },
     "execution_count": 16,
     "metadata": {},
     "output_type": "execute_result"
    }
   ],
   "source": [
    "df['int.rate']"
   ]
  },
  {
   "cell_type": "code",
   "execution_count": 17,
   "id": "cafe6fa6",
   "metadata": {},
   "outputs": [
    {
     "data": {
      "text/plain": [
       "0.1253    354\n",
       "0.0894    299\n",
       "0.1183    243\n",
       "0.1218    215\n",
       "0.0963    210\n",
       "         ... \n",
       "0.2016      1\n",
       "0.1683      1\n",
       "0.1778      1\n",
       "0.1756      1\n",
       "0.1867      1\n",
       "Name: int.rate, Length: 249, dtype: int64"
      ]
     },
     "execution_count": 17,
     "metadata": {},
     "output_type": "execute_result"
    }
   ],
   "source": [
    "df['int.rate'].value_counts()"
   ]
  },
  {
   "cell_type": "code",
   "execution_count": 18,
   "id": "664d765f",
   "metadata": {},
   "outputs": [
    {
     "name": "stdout",
     "output_type": "stream",
     "text": [
      "<class 'pandas.core.frame.DataFrame'>\n",
      "RangeIndex: 9578 entries, 0 to 9577\n",
      "Data columns (total 14 columns):\n",
      " #   Column             Non-Null Count  Dtype  \n",
      "---  ------             --------------  -----  \n",
      " 0   credit.policy      9578 non-null   int64  \n",
      " 1   purpose            9578 non-null   int32  \n",
      " 2   int.rate           9578 non-null   float64\n",
      " 3   installment        9578 non-null   float64\n",
      " 4   log.annual.inc     9578 non-null   float64\n",
      " 5   dti                9578 non-null   float64\n",
      " 6   fico               9578 non-null   int64  \n",
      " 7   days.with.cr.line  9578 non-null   float64\n",
      " 8   revol.bal          9578 non-null   int64  \n",
      " 9   revol.util         9578 non-null   float64\n",
      " 10  inq.last.6mths     9578 non-null   int64  \n",
      " 11  delinq.2yrs        9578 non-null   int64  \n",
      " 12  pub.rec            9578 non-null   int64  \n",
      " 13  not.fully.paid     9578 non-null   int64  \n",
      "dtypes: float64(6), int32(1), int64(7)\n",
      "memory usage: 1010.3 KB\n"
     ]
    }
   ],
   "source": [
    "df.info()"
   ]
  },
  {
   "cell_type": "markdown",
   "id": "5665c1f0",
   "metadata": {},
   "source": [
    "### installment"
   ]
  },
  {
   "cell_type": "code",
   "execution_count": 19,
   "id": "945e59e6",
   "metadata": {},
   "outputs": [
    {
     "data": {
      "text/plain": [
       "0       829.10\n",
       "1       228.22\n",
       "2       366.86\n",
       "3       162.34\n",
       "4       102.92\n",
       "         ...  \n",
       "9573    344.76\n",
       "9574    257.70\n",
       "9575     97.81\n",
       "9576    351.58\n",
       "9577    853.43\n",
       "Name: installment, Length: 9578, dtype: float64"
      ]
     },
     "execution_count": 19,
     "metadata": {},
     "output_type": "execute_result"
    }
   ],
   "source": [
    "df['installment']"
   ]
  },
  {
   "cell_type": "code",
   "execution_count": 20,
   "id": "9d4cb4ee",
   "metadata": {},
   "outputs": [
    {
     "data": {
      "text/plain": [
       "317.72    41\n",
       "316.11    34\n",
       "319.47    29\n",
       "381.26    27\n",
       "662.68    27\n",
       "          ..\n",
       "97.53      1\n",
       "76.26      1\n",
       "150.84     1\n",
       "158.99     1\n",
       "853.43     1\n",
       "Name: installment, Length: 4788, dtype: int64"
      ]
     },
     "execution_count": 20,
     "metadata": {},
     "output_type": "execute_result"
    }
   ],
   "source": [
    "df['installment'].value_counts()"
   ]
  },
  {
   "cell_type": "code",
   "execution_count": 21,
   "id": "dcf882b3",
   "metadata": {},
   "outputs": [
    {
     "name": "stdout",
     "output_type": "stream",
     "text": [
      "<class 'pandas.core.frame.DataFrame'>\n",
      "RangeIndex: 9578 entries, 0 to 9577\n",
      "Data columns (total 14 columns):\n",
      " #   Column             Non-Null Count  Dtype  \n",
      "---  ------             --------------  -----  \n",
      " 0   credit.policy      9578 non-null   int64  \n",
      " 1   purpose            9578 non-null   int32  \n",
      " 2   int.rate           9578 non-null   float64\n",
      " 3   installment        9578 non-null   float64\n",
      " 4   log.annual.inc     9578 non-null   float64\n",
      " 5   dti                9578 non-null   float64\n",
      " 6   fico               9578 non-null   int64  \n",
      " 7   days.with.cr.line  9578 non-null   float64\n",
      " 8   revol.bal          9578 non-null   int64  \n",
      " 9   revol.util         9578 non-null   float64\n",
      " 10  inq.last.6mths     9578 non-null   int64  \n",
      " 11  delinq.2yrs        9578 non-null   int64  \n",
      " 12  pub.rec            9578 non-null   int64  \n",
      " 13  not.fully.paid     9578 non-null   int64  \n",
      "dtypes: float64(6), int32(1), int64(7)\n",
      "memory usage: 1010.3 KB\n"
     ]
    }
   ],
   "source": [
    "df.info()"
   ]
  },
  {
   "cell_type": "markdown",
   "id": "95663247",
   "metadata": {},
   "source": [
    "### log.annual.inc"
   ]
  },
  {
   "cell_type": "code",
   "execution_count": 22,
   "id": "f144f5e6",
   "metadata": {},
   "outputs": [
    {
     "data": {
      "text/plain": [
       "0       11.350407\n",
       "1       11.082143\n",
       "2       10.373491\n",
       "3       11.350407\n",
       "4       11.299732\n",
       "          ...    \n",
       "9573    12.180755\n",
       "9574    11.141862\n",
       "9575    10.596635\n",
       "9576    10.819778\n",
       "9577    11.264464\n",
       "Name: log.annual.inc, Length: 9578, dtype: float64"
      ]
     },
     "execution_count": 22,
     "metadata": {},
     "output_type": "execute_result"
    }
   ],
   "source": [
    "df['log.annual.inc']"
   ]
  },
  {
   "cell_type": "code",
   "execution_count": 23,
   "id": "ff97f357",
   "metadata": {},
   "outputs": [
    {
     "data": {
      "text/plain": [
       "11.002100    308\n",
       "10.819778    248\n",
       "10.308953    224\n",
       "10.596635    224\n",
       "10.714418    221\n",
       "            ... \n",
       "11.217534      1\n",
       "12.078239      1\n",
       "10.068451      1\n",
       "9.621788       1\n",
       "10.110472      1\n",
       "Name: log.annual.inc, Length: 1987, dtype: int64"
      ]
     },
     "execution_count": 23,
     "metadata": {},
     "output_type": "execute_result"
    }
   ],
   "source": [
    "df['log.annual.inc'].value_counts()"
   ]
  },
  {
   "cell_type": "code",
   "execution_count": 24,
   "id": "7ad14f2b",
   "metadata": {},
   "outputs": [
    {
     "name": "stdout",
     "output_type": "stream",
     "text": [
      "<class 'pandas.core.frame.DataFrame'>\n",
      "RangeIndex: 9578 entries, 0 to 9577\n",
      "Data columns (total 14 columns):\n",
      " #   Column             Non-Null Count  Dtype  \n",
      "---  ------             --------------  -----  \n",
      " 0   credit.policy      9578 non-null   int64  \n",
      " 1   purpose            9578 non-null   int32  \n",
      " 2   int.rate           9578 non-null   float64\n",
      " 3   installment        9578 non-null   float64\n",
      " 4   log.annual.inc     9578 non-null   float64\n",
      " 5   dti                9578 non-null   float64\n",
      " 6   fico               9578 non-null   int64  \n",
      " 7   days.with.cr.line  9578 non-null   float64\n",
      " 8   revol.bal          9578 non-null   int64  \n",
      " 9   revol.util         9578 non-null   float64\n",
      " 10  inq.last.6mths     9578 non-null   int64  \n",
      " 11  delinq.2yrs        9578 non-null   int64  \n",
      " 12  pub.rec            9578 non-null   int64  \n",
      " 13  not.fully.paid     9578 non-null   int64  \n",
      "dtypes: float64(6), int32(1), int64(7)\n",
      "memory usage: 1010.3 KB\n"
     ]
    }
   ],
   "source": [
    "df.info()"
   ]
  },
  {
   "cell_type": "markdown",
   "id": "e7e3fbe4",
   "metadata": {},
   "source": [
    "### dti"
   ]
  },
  {
   "cell_type": "code",
   "execution_count": 25,
   "id": "f43d569f",
   "metadata": {},
   "outputs": [
    {
     "data": {
      "text/plain": [
       "0       19.48\n",
       "1       14.29\n",
       "2       11.63\n",
       "3        8.10\n",
       "4       14.97\n",
       "        ...  \n",
       "9573    10.39\n",
       "9574     0.21\n",
       "9575    13.09\n",
       "9576    19.18\n",
       "9577    16.28\n",
       "Name: dti, Length: 9578, dtype: float64"
      ]
     },
     "execution_count": 25,
     "metadata": {},
     "output_type": "execute_result"
    }
   ],
   "source": [
    "df['dti']"
   ]
  },
  {
   "cell_type": "code",
   "execution_count": 26,
   "id": "2a94e921",
   "metadata": {},
   "outputs": [
    {
     "data": {
      "text/plain": [
       "0.00     89\n",
       "10.00    19\n",
       "0.60     16\n",
       "15.10    13\n",
       "12.00    13\n",
       "         ..\n",
       "5.90      1\n",
       "19.74     1\n",
       "29.15     1\n",
       "1.09      1\n",
       "24.05     1\n",
       "Name: dti, Length: 2529, dtype: int64"
      ]
     },
     "execution_count": 26,
     "metadata": {},
     "output_type": "execute_result"
    }
   ],
   "source": [
    "df['dti'].value_counts()"
   ]
  },
  {
   "cell_type": "code",
   "execution_count": 27,
   "id": "7eeddc58",
   "metadata": {},
   "outputs": [
    {
     "name": "stdout",
     "output_type": "stream",
     "text": [
      "<class 'pandas.core.frame.DataFrame'>\n",
      "RangeIndex: 9578 entries, 0 to 9577\n",
      "Data columns (total 14 columns):\n",
      " #   Column             Non-Null Count  Dtype  \n",
      "---  ------             --------------  -----  \n",
      " 0   credit.policy      9578 non-null   int64  \n",
      " 1   purpose            9578 non-null   int32  \n",
      " 2   int.rate           9578 non-null   float64\n",
      " 3   installment        9578 non-null   float64\n",
      " 4   log.annual.inc     9578 non-null   float64\n",
      " 5   dti                9578 non-null   float64\n",
      " 6   fico               9578 non-null   int64  \n",
      " 7   days.with.cr.line  9578 non-null   float64\n",
      " 8   revol.bal          9578 non-null   int64  \n",
      " 9   revol.util         9578 non-null   float64\n",
      " 10  inq.last.6mths     9578 non-null   int64  \n",
      " 11  delinq.2yrs        9578 non-null   int64  \n",
      " 12  pub.rec            9578 non-null   int64  \n",
      " 13  not.fully.paid     9578 non-null   int64  \n",
      "dtypes: float64(6), int32(1), int64(7)\n",
      "memory usage: 1010.3 KB\n"
     ]
    }
   ],
   "source": [
    "df.info()"
   ]
  },
  {
   "cell_type": "markdown",
   "id": "d8c5c692",
   "metadata": {},
   "source": [
    "### fico"
   ]
  },
  {
   "cell_type": "code",
   "execution_count": 28,
   "id": "9e6aa02a",
   "metadata": {},
   "outputs": [
    {
     "data": {
      "text/plain": [
       "0       737\n",
       "1       707\n",
       "2       682\n",
       "3       712\n",
       "4       667\n",
       "       ... \n",
       "9573    672\n",
       "9574    722\n",
       "9575    687\n",
       "9576    692\n",
       "9577    732\n",
       "Name: fico, Length: 9578, dtype: int64"
      ]
     },
     "execution_count": 28,
     "metadata": {},
     "output_type": "execute_result"
    }
   ],
   "source": [
    "df['fico']"
   ]
  },
  {
   "cell_type": "code",
   "execution_count": 29,
   "id": "00ea6e5f",
   "metadata": {},
   "outputs": [
    {
     "data": {
      "text/plain": [
       "687    548\n",
       "682    536\n",
       "692    498\n",
       "697    476\n",
       "702    472\n",
       "707    444\n",
       "667    438\n",
       "677    427\n",
       "717    424\n",
       "662    414\n",
       "712    395\n",
       "672    395\n",
       "722    388\n",
       "727    361\n",
       "732    330\n",
       "742    324\n",
       "737    313\n",
       "752    258\n",
       "747    236\n",
       "757    231\n",
       "762    220\n",
       "772    158\n",
       "767    142\n",
       "777    140\n",
       "652    131\n",
       "657    127\n",
       "782    118\n",
       "647    112\n",
       "642    102\n",
       "792     97\n",
       "787     85\n",
       "797     76\n",
       "802     55\n",
       "807     45\n",
       "812     33\n",
       "632      6\n",
       "817      6\n",
       "822      5\n",
       "637      5\n",
       "627      2\n",
       "612      2\n",
       "827      1\n",
       "617      1\n",
       "622      1\n",
       "Name: fico, dtype: int64"
      ]
     },
     "execution_count": 29,
     "metadata": {},
     "output_type": "execute_result"
    }
   ],
   "source": [
    "df['fico'].value_counts()"
   ]
  },
  {
   "cell_type": "code",
   "execution_count": 30,
   "id": "714c5d7d",
   "metadata": {},
   "outputs": [
    {
     "name": "stdout",
     "output_type": "stream",
     "text": [
      "<class 'pandas.core.frame.DataFrame'>\n",
      "RangeIndex: 9578 entries, 0 to 9577\n",
      "Data columns (total 14 columns):\n",
      " #   Column             Non-Null Count  Dtype  \n",
      "---  ------             --------------  -----  \n",
      " 0   credit.policy      9578 non-null   int64  \n",
      " 1   purpose            9578 non-null   int32  \n",
      " 2   int.rate           9578 non-null   float64\n",
      " 3   installment        9578 non-null   float64\n",
      " 4   log.annual.inc     9578 non-null   float64\n",
      " 5   dti                9578 non-null   float64\n",
      " 6   fico               9578 non-null   int64  \n",
      " 7   days.with.cr.line  9578 non-null   float64\n",
      " 8   revol.bal          9578 non-null   int64  \n",
      " 9   revol.util         9578 non-null   float64\n",
      " 10  inq.last.6mths     9578 non-null   int64  \n",
      " 11  delinq.2yrs        9578 non-null   int64  \n",
      " 12  pub.rec            9578 non-null   int64  \n",
      " 13  not.fully.paid     9578 non-null   int64  \n",
      "dtypes: float64(6), int32(1), int64(7)\n",
      "memory usage: 1010.3 KB\n"
     ]
    }
   ],
   "source": [
    "df.info()"
   ]
  },
  {
   "cell_type": "markdown",
   "id": "6449ab09",
   "metadata": {},
   "source": [
    "### days.with.cr.line"
   ]
  },
  {
   "cell_type": "code",
   "execution_count": 31,
   "id": "44c19a71",
   "metadata": {},
   "outputs": [
    {
     "data": {
      "text/plain": [
       "0        5639.958333\n",
       "1        2760.000000\n",
       "2        4710.000000\n",
       "3        2699.958333\n",
       "4        4066.000000\n",
       "            ...     \n",
       "9573    10474.000000\n",
       "9574     4380.000000\n",
       "9575     3450.041667\n",
       "9576     1800.000000\n",
       "9577     4740.000000\n",
       "Name: days.with.cr.line, Length: 9578, dtype: float64"
      ]
     },
     "execution_count": 31,
     "metadata": {},
     "output_type": "execute_result"
    }
   ],
   "source": [
    "df['days.with.cr.line']"
   ]
  },
  {
   "cell_type": "code",
   "execution_count": 32,
   "id": "03aa987e",
   "metadata": {},
   "outputs": [
    {
     "data": {
      "text/plain": [
       "3660.000000     50\n",
       "3630.000000     48\n",
       "3990.000000     46\n",
       "4410.000000     44\n",
       "3600.000000     41\n",
       "                ..\n",
       "9395.000000      1\n",
       "5613.958333      1\n",
       "2884.000000      1\n",
       "1728.000000      1\n",
       "10474.000000     1\n",
       "Name: days.with.cr.line, Length: 2687, dtype: int64"
      ]
     },
     "execution_count": 32,
     "metadata": {},
     "output_type": "execute_result"
    }
   ],
   "source": [
    "df['days.with.cr.line'].value_counts()"
   ]
  },
  {
   "cell_type": "code",
   "execution_count": 33,
   "id": "252cd143",
   "metadata": {},
   "outputs": [
    {
     "name": "stdout",
     "output_type": "stream",
     "text": [
      "<class 'pandas.core.frame.DataFrame'>\n",
      "RangeIndex: 9578 entries, 0 to 9577\n",
      "Data columns (total 14 columns):\n",
      " #   Column             Non-Null Count  Dtype  \n",
      "---  ------             --------------  -----  \n",
      " 0   credit.policy      9578 non-null   int64  \n",
      " 1   purpose            9578 non-null   int32  \n",
      " 2   int.rate           9578 non-null   float64\n",
      " 3   installment        9578 non-null   float64\n",
      " 4   log.annual.inc     9578 non-null   float64\n",
      " 5   dti                9578 non-null   float64\n",
      " 6   fico               9578 non-null   int64  \n",
      " 7   days.with.cr.line  9578 non-null   float64\n",
      " 8   revol.bal          9578 non-null   int64  \n",
      " 9   revol.util         9578 non-null   float64\n",
      " 10  inq.last.6mths     9578 non-null   int64  \n",
      " 11  delinq.2yrs        9578 non-null   int64  \n",
      " 12  pub.rec            9578 non-null   int64  \n",
      " 13  not.fully.paid     9578 non-null   int64  \n",
      "dtypes: float64(6), int32(1), int64(7)\n",
      "memory usage: 1010.3 KB\n"
     ]
    }
   ],
   "source": [
    "df.info()"
   ]
  },
  {
   "cell_type": "markdown",
   "id": "ce325b82",
   "metadata": {},
   "source": [
    "### revol.bal"
   ]
  },
  {
   "cell_type": "code",
   "execution_count": 34,
   "id": "441d5de6",
   "metadata": {},
   "outputs": [
    {
     "data": {
      "text/plain": [
       "0        28854\n",
       "1        33623\n",
       "2         3511\n",
       "3        33667\n",
       "4         4740\n",
       "         ...  \n",
       "9573    215372\n",
       "9574       184\n",
       "9575     10036\n",
       "9576         0\n",
       "9577     37879\n",
       "Name: revol.bal, Length: 9578, dtype: int64"
      ]
     },
     "execution_count": 34,
     "metadata": {},
     "output_type": "execute_result"
    }
   ],
   "source": [
    "df['revol.bal']"
   ]
  },
  {
   "cell_type": "code",
   "execution_count": 35,
   "id": "267132f3",
   "metadata": {},
   "outputs": [
    {
     "data": {
      "text/plain": [
       "0        321\n",
       "298       10\n",
       "255       10\n",
       "682        9\n",
       "346        8\n",
       "        ... \n",
       "24876      1\n",
       "14588      1\n",
       "9866       1\n",
       "13450      1\n",
       "37879      1\n",
       "Name: revol.bal, Length: 7869, dtype: int64"
      ]
     },
     "execution_count": 35,
     "metadata": {},
     "output_type": "execute_result"
    }
   ],
   "source": [
    "df['revol.bal'].value_counts()"
   ]
  },
  {
   "cell_type": "code",
   "execution_count": 36,
   "id": "8e034cea",
   "metadata": {},
   "outputs": [
    {
     "name": "stdout",
     "output_type": "stream",
     "text": [
      "<class 'pandas.core.frame.DataFrame'>\n",
      "RangeIndex: 9578 entries, 0 to 9577\n",
      "Data columns (total 14 columns):\n",
      " #   Column             Non-Null Count  Dtype  \n",
      "---  ------             --------------  -----  \n",
      " 0   credit.policy      9578 non-null   int64  \n",
      " 1   purpose            9578 non-null   int32  \n",
      " 2   int.rate           9578 non-null   float64\n",
      " 3   installment        9578 non-null   float64\n",
      " 4   log.annual.inc     9578 non-null   float64\n",
      " 5   dti                9578 non-null   float64\n",
      " 6   fico               9578 non-null   int64  \n",
      " 7   days.with.cr.line  9578 non-null   float64\n",
      " 8   revol.bal          9578 non-null   int64  \n",
      " 9   revol.util         9578 non-null   float64\n",
      " 10  inq.last.6mths     9578 non-null   int64  \n",
      " 11  delinq.2yrs        9578 non-null   int64  \n",
      " 12  pub.rec            9578 non-null   int64  \n",
      " 13  not.fully.paid     9578 non-null   int64  \n",
      "dtypes: float64(6), int32(1), int64(7)\n",
      "memory usage: 1010.3 KB\n"
     ]
    }
   ],
   "source": [
    "df.info()"
   ]
  },
  {
   "cell_type": "markdown",
   "id": "2639714f",
   "metadata": {},
   "source": [
    "### revol.util"
   ]
  },
  {
   "cell_type": "code",
   "execution_count": 37,
   "id": "c951800b",
   "metadata": {},
   "outputs": [
    {
     "data": {
      "text/plain": [
       "0       52.1\n",
       "1       76.7\n",
       "2       25.6\n",
       "3       73.2\n",
       "4       39.5\n",
       "        ... \n",
       "9573    82.1\n",
       "9574     1.1\n",
       "9575    82.9\n",
       "9576     3.2\n",
       "9577    57.0\n",
       "Name: revol.util, Length: 9578, dtype: float64"
      ]
     },
     "execution_count": 37,
     "metadata": {},
     "output_type": "execute_result"
    }
   ],
   "source": [
    "df['revol.util']"
   ]
  },
  {
   "cell_type": "code",
   "execution_count": 38,
   "id": "555d19a6",
   "metadata": {},
   "outputs": [
    {
     "data": {
      "text/plain": [
       "0.00     297\n",
       "0.50      26\n",
       "47.80     22\n",
       "0.30      22\n",
       "73.70     22\n",
       "        ... \n",
       "49.63      1\n",
       "0.04       1\n",
       "91.40      1\n",
       "7.28       1\n",
       "69.14      1\n",
       "Name: revol.util, Length: 1035, dtype: int64"
      ]
     },
     "execution_count": 38,
     "metadata": {},
     "output_type": "execute_result"
    }
   ],
   "source": [
    "df['revol.util'].value_counts()"
   ]
  },
  {
   "cell_type": "code",
   "execution_count": 39,
   "id": "5acabc74",
   "metadata": {},
   "outputs": [
    {
     "name": "stdout",
     "output_type": "stream",
     "text": [
      "<class 'pandas.core.frame.DataFrame'>\n",
      "RangeIndex: 9578 entries, 0 to 9577\n",
      "Data columns (total 14 columns):\n",
      " #   Column             Non-Null Count  Dtype  \n",
      "---  ------             --------------  -----  \n",
      " 0   credit.policy      9578 non-null   int64  \n",
      " 1   purpose            9578 non-null   int32  \n",
      " 2   int.rate           9578 non-null   float64\n",
      " 3   installment        9578 non-null   float64\n",
      " 4   log.annual.inc     9578 non-null   float64\n",
      " 5   dti                9578 non-null   float64\n",
      " 6   fico               9578 non-null   int64  \n",
      " 7   days.with.cr.line  9578 non-null   float64\n",
      " 8   revol.bal          9578 non-null   int64  \n",
      " 9   revol.util         9578 non-null   float64\n",
      " 10  inq.last.6mths     9578 non-null   int64  \n",
      " 11  delinq.2yrs        9578 non-null   int64  \n",
      " 12  pub.rec            9578 non-null   int64  \n",
      " 13  not.fully.paid     9578 non-null   int64  \n",
      "dtypes: float64(6), int32(1), int64(7)\n",
      "memory usage: 1010.3 KB\n"
     ]
    }
   ],
   "source": [
    "df.info()"
   ]
  },
  {
   "cell_type": "markdown",
   "id": "3713f4e4",
   "metadata": {},
   "source": [
    "### inq.last.6mths"
   ]
  },
  {
   "cell_type": "code",
   "execution_count": 40,
   "id": "3fd6d175",
   "metadata": {},
   "outputs": [
    {
     "data": {
      "text/plain": [
       "0       0\n",
       "1       0\n",
       "2       1\n",
       "3       1\n",
       "4       0\n",
       "       ..\n",
       "9573    2\n",
       "9574    5\n",
       "9575    8\n",
       "9576    5\n",
       "9577    6\n",
       "Name: inq.last.6mths, Length: 9578, dtype: int64"
      ]
     },
     "execution_count": 40,
     "metadata": {},
     "output_type": "execute_result"
    }
   ],
   "source": [
    "df['inq.last.6mths']"
   ]
  },
  {
   "cell_type": "code",
   "execution_count": 41,
   "id": "75153c12",
   "metadata": {},
   "outputs": [
    {
     "data": {
      "text/plain": [
       "0     3637\n",
       "1     2462\n",
       "2     1384\n",
       "3      864\n",
       "4      475\n",
       "5      278\n",
       "6      165\n",
       "7      100\n",
       "8       72\n",
       "9       47\n",
       "10      23\n",
       "11      15\n",
       "12      15\n",
       "15       9\n",
       "13       6\n",
       "14       6\n",
       "18       4\n",
       "16       3\n",
       "19       2\n",
       "24       2\n",
       "17       2\n",
       "33       1\n",
       "20       1\n",
       "27       1\n",
       "25       1\n",
       "28       1\n",
       "31       1\n",
       "32       1\n",
       "Name: inq.last.6mths, dtype: int64"
      ]
     },
     "execution_count": 41,
     "metadata": {},
     "output_type": "execute_result"
    }
   ],
   "source": [
    "df['inq.last.6mths'].value_counts()"
   ]
  },
  {
   "cell_type": "code",
   "execution_count": 42,
   "id": "d8e4b79e",
   "metadata": {},
   "outputs": [
    {
     "name": "stdout",
     "output_type": "stream",
     "text": [
      "<class 'pandas.core.frame.DataFrame'>\n",
      "RangeIndex: 9578 entries, 0 to 9577\n",
      "Data columns (total 14 columns):\n",
      " #   Column             Non-Null Count  Dtype  \n",
      "---  ------             --------------  -----  \n",
      " 0   credit.policy      9578 non-null   int64  \n",
      " 1   purpose            9578 non-null   int32  \n",
      " 2   int.rate           9578 non-null   float64\n",
      " 3   installment        9578 non-null   float64\n",
      " 4   log.annual.inc     9578 non-null   float64\n",
      " 5   dti                9578 non-null   float64\n",
      " 6   fico               9578 non-null   int64  \n",
      " 7   days.with.cr.line  9578 non-null   float64\n",
      " 8   revol.bal          9578 non-null   int64  \n",
      " 9   revol.util         9578 non-null   float64\n",
      " 10  inq.last.6mths     9578 non-null   int64  \n",
      " 11  delinq.2yrs        9578 non-null   int64  \n",
      " 12  pub.rec            9578 non-null   int64  \n",
      " 13  not.fully.paid     9578 non-null   int64  \n",
      "dtypes: float64(6), int32(1), int64(7)\n",
      "memory usage: 1010.3 KB\n"
     ]
    }
   ],
   "source": [
    "df.info()"
   ]
  },
  {
   "cell_type": "markdown",
   "id": "3ed7d641",
   "metadata": {},
   "source": [
    "### delinq.2yrs"
   ]
  },
  {
   "cell_type": "code",
   "execution_count": 43,
   "id": "8f4b9e54",
   "metadata": {},
   "outputs": [
    {
     "data": {
      "text/plain": [
       "0       0\n",
       "1       0\n",
       "2       0\n",
       "3       0\n",
       "4       1\n",
       "       ..\n",
       "9573    0\n",
       "9574    0\n",
       "9575    0\n",
       "9576    0\n",
       "9577    0\n",
       "Name: delinq.2yrs, Length: 9578, dtype: int64"
      ]
     },
     "execution_count": 43,
     "metadata": {},
     "output_type": "execute_result"
    }
   ],
   "source": [
    "df['delinq.2yrs']"
   ]
  },
  {
   "cell_type": "code",
   "execution_count": 44,
   "id": "acb4bcfd",
   "metadata": {},
   "outputs": [
    {
     "data": {
      "text/plain": [
       "0     8458\n",
       "1      832\n",
       "2      192\n",
       "3       65\n",
       "4       19\n",
       "5        6\n",
       "6        2\n",
       "13       1\n",
       "7        1\n",
       "8        1\n",
       "11       1\n",
       "Name: delinq.2yrs, dtype: int64"
      ]
     },
     "execution_count": 44,
     "metadata": {},
     "output_type": "execute_result"
    }
   ],
   "source": [
    "df['delinq.2yrs'].value_counts()"
   ]
  },
  {
   "cell_type": "code",
   "execution_count": 45,
   "id": "3d2c7b4d",
   "metadata": {},
   "outputs": [
    {
     "name": "stdout",
     "output_type": "stream",
     "text": [
      "<class 'pandas.core.frame.DataFrame'>\n",
      "RangeIndex: 9578 entries, 0 to 9577\n",
      "Data columns (total 14 columns):\n",
      " #   Column             Non-Null Count  Dtype  \n",
      "---  ------             --------------  -----  \n",
      " 0   credit.policy      9578 non-null   int64  \n",
      " 1   purpose            9578 non-null   int32  \n",
      " 2   int.rate           9578 non-null   float64\n",
      " 3   installment        9578 non-null   float64\n",
      " 4   log.annual.inc     9578 non-null   float64\n",
      " 5   dti                9578 non-null   float64\n",
      " 6   fico               9578 non-null   int64  \n",
      " 7   days.with.cr.line  9578 non-null   float64\n",
      " 8   revol.bal          9578 non-null   int64  \n",
      " 9   revol.util         9578 non-null   float64\n",
      " 10  inq.last.6mths     9578 non-null   int64  \n",
      " 11  delinq.2yrs        9578 non-null   int64  \n",
      " 12  pub.rec            9578 non-null   int64  \n",
      " 13  not.fully.paid     9578 non-null   int64  \n",
      "dtypes: float64(6), int32(1), int64(7)\n",
      "memory usage: 1010.3 KB\n"
     ]
    }
   ],
   "source": [
    "df.info()"
   ]
  },
  {
   "cell_type": "markdown",
   "id": "f1bba014",
   "metadata": {},
   "source": [
    "### pub.rec"
   ]
  },
  {
   "cell_type": "code",
   "execution_count": 46,
   "id": "5073c807",
   "metadata": {},
   "outputs": [
    {
     "data": {
      "text/plain": [
       "0       0\n",
       "1       0\n",
       "2       0\n",
       "3       0\n",
       "4       0\n",
       "       ..\n",
       "9573    0\n",
       "9574    0\n",
       "9575    0\n",
       "9576    0\n",
       "9577    0\n",
       "Name: pub.rec, Length: 9578, dtype: int64"
      ]
     },
     "execution_count": 46,
     "metadata": {},
     "output_type": "execute_result"
    }
   ],
   "source": [
    "df['pub.rec']"
   ]
  },
  {
   "cell_type": "code",
   "execution_count": 47,
   "id": "f35a9561",
   "metadata": {},
   "outputs": [
    {
     "data": {
      "text/plain": [
       "0    9019\n",
       "1     533\n",
       "2      19\n",
       "3       5\n",
       "4       1\n",
       "5       1\n",
       "Name: pub.rec, dtype: int64"
      ]
     },
     "execution_count": 47,
     "metadata": {},
     "output_type": "execute_result"
    }
   ],
   "source": [
    "df['pub.rec'].value_counts()"
   ]
  },
  {
   "cell_type": "code",
   "execution_count": 48,
   "id": "cc85a783",
   "metadata": {},
   "outputs": [
    {
     "name": "stdout",
     "output_type": "stream",
     "text": [
      "<class 'pandas.core.frame.DataFrame'>\n",
      "RangeIndex: 9578 entries, 0 to 9577\n",
      "Data columns (total 14 columns):\n",
      " #   Column             Non-Null Count  Dtype  \n",
      "---  ------             --------------  -----  \n",
      " 0   credit.policy      9578 non-null   int64  \n",
      " 1   purpose            9578 non-null   int32  \n",
      " 2   int.rate           9578 non-null   float64\n",
      " 3   installment        9578 non-null   float64\n",
      " 4   log.annual.inc     9578 non-null   float64\n",
      " 5   dti                9578 non-null   float64\n",
      " 6   fico               9578 non-null   int64  \n",
      " 7   days.with.cr.line  9578 non-null   float64\n",
      " 8   revol.bal          9578 non-null   int64  \n",
      " 9   revol.util         9578 non-null   float64\n",
      " 10  inq.last.6mths     9578 non-null   int64  \n",
      " 11  delinq.2yrs        9578 non-null   int64  \n",
      " 12  pub.rec            9578 non-null   int64  \n",
      " 13  not.fully.paid     9578 non-null   int64  \n",
      "dtypes: float64(6), int32(1), int64(7)\n",
      "memory usage: 1010.3 KB\n"
     ]
    }
   ],
   "source": [
    "df.info()"
   ]
  },
  {
   "cell_type": "code",
   "execution_count": 49,
   "id": "b72a068e",
   "metadata": {},
   "outputs": [
    {
     "data": {
      "text/plain": [
       "0    8045\n",
       "1    1533\n",
       "Name: not.fully.paid, dtype: int64"
      ]
     },
     "execution_count": 49,
     "metadata": {},
     "output_type": "execute_result"
    }
   ],
   "source": [
    "df['not.fully.paid'].value_counts()   # imbalance data  # bais data"
   ]
  },
  {
   "cell_type": "code",
   "execution_count": 50,
   "id": "31cfb069",
   "metadata": {},
   "outputs": [],
   "source": [
    "# df['not.fully.paid'].replace({0:'no',1:'yes'},inplace = True)"
   ]
  },
  {
   "cell_type": "markdown",
   "id": "06461e13",
   "metadata": {},
   "source": [
    "# Feature Engineering"
   ]
  },
  {
   "cell_type": "code",
   "execution_count": 51,
   "id": "d5c36599",
   "metadata": {},
   "outputs": [
    {
     "data": {
      "text/plain": [
       "<AxesSubplot:>"
      ]
     },
     "execution_count": 51,
     "metadata": {},
     "output_type": "execute_result"
    },
    {
     "data": {
      "image/png": "[encoded data removed]",
      "text/plain": [
       "<Figure size 432x288 with 1 Axes>"
      ]
     },
     "metadata": {
      "needs_background": "light"
     },
     "output_type": "display_data"
    }
   ],
   "source": [
    "df[['credit.policy']].boxplot() # 1"
   ]
  },
  {
   "cell_type": "code",
   "execution_count": 52,
   "id": "8d842641",
   "metadata": {},
   "outputs": [
    {
     "data": {
      "text/plain": [
       "<AxesSubplot:>"
      ]
     },
     "execution_count": 52,
     "metadata": {},
     "output_type": "execute_result"
    },
    {
     "data": {
      "image/png": "[encoded data removed]",
      "text/plain": [
       "<Figure size 640x480 with 1 Axes>"
      ]
     },
     "metadata": {},
     "output_type": "display_data"
    }
   ],
   "source": [
    "df[['purpose']].boxplot() # 2"
   ]
  },
  {
   "cell_type": "code",
   "execution_count": 53,
   "id": "f5e32250",
   "metadata": {},
   "outputs": [
    {
     "name": "stdout",
     "output_type": "stream",
     "text": [
      "q1--> 1.0\n",
      "q2--> 2.0\n",
      "q3--> 2.0\n",
      "upper_tail--> 3.5\n",
      "lower_tail--> -0.5\n",
      "mean--> 1.9440384213823345\n",
      "2.0\n"
     ]
    },
    {
     "data": {
      "text/plain": [
       "<AxesSubplot:>"
      ]
     },
     "execution_count": 53,
     "metadata": {},
     "output_type": "execute_result"
    },
    {
     "data": {
      "image/png": "[encoded data removed]",
      "text/plain": [
       "<Figure size 640x480 with 1 Axes>"
      ]
     },
     "metadata": {},
     "output_type": "display_data"
    }
   ],
   "source": [
    "q1=df['purpose'].quantile(0.25)\n",
    "q2=df['purpose'].quantile(0.50)\n",
    "q3=df['purpose'].quantile(0.75)\n",
    "\n",
    "iqr = q3-q1\n",
    "\n",
    "upper_tail=q3+1.5*iqr\n",
    "lower_tail=q1-1.5*iqr\n",
    "\n",
    "print('q1-->',q1)\n",
    "print('q2-->',q2)\n",
    "print('q3-->',q3)\n",
    "print('upper_tail-->',upper_tail)\n",
    "print('lower_tail-->',lower_tail)\n",
    "\n",
    "print(\"mean-->\",(df['purpose'].mean()))\n",
    "\n",
    "df['purpose'].median()\n",
    "\n",
    "size_df=df[['purpose']].loc[(df['purpose'] < upper_tail) & \n",
    "                                   (df['purpose'] > lower_tail)].median()[0]\n",
    "print(size_df)  \n",
    "\n",
    "df.loc[(df['purpose'] > upper_tail) |\n",
    "                (df['purpose'] < lower_tail), 'purpose'] = size_df\n",
    "\n",
    "\n",
    "df[['purpose']].boxplot()"
   ]
  },
  {
   "cell_type": "code",
   "execution_count": 54,
   "id": "c77e8275",
   "metadata": {},
   "outputs": [
    {
     "data": {
      "text/plain": [
       "<AxesSubplot:>"
      ]
     },
     "execution_count": 54,
     "metadata": {},
     "output_type": "execute_result"
    },
    {
     "data": {
      "image/png": "[encoded data removed]",
      "text/plain": [
       "<Figure size 640x480 with 1 Axes>"
      ]
     },
     "metadata": {},
     "output_type": "display_data"
    }
   ],
   "source": [
    "df[['int.rate']].boxplot() # 3"
   ]
  },
  {
   "cell_type": "code",
   "execution_count": 55,
   "id": "19625e08",
   "metadata": {},
   "outputs": [
    {
     "name": "stdout",
     "output_type": "stream",
     "text": [
      "q1--> 0.1039\n",
      "q2--> 0.1221\n",
      "q3--> 0.1407\n",
      "upper_tail--> 0.19589999999999996\n",
      "lower_tail--> 0.04870000000000003\n",
      "mean--> 0.12264006055543955\n",
      "0.1221\n"
     ]
    },
    {
     "data": {
      "text/plain": [
       "<AxesSubplot:>"
      ]
     },
     "execution_count": 55,
     "metadata": {},
     "output_type": "execute_result"
    },
    {
     "data": {
      "image/png": "[encoded data removed]",
      "text/plain": [
       "<Figure size 640x480 with 1 Axes>"
      ]
     },
     "metadata": {},
     "output_type": "display_data"
    }
   ],
   "source": [
    "q1=df['int.rate'].quantile(0.25)\n",
    "q2=df['int.rate'].quantile(0.50)\n",
    "q3=df['int.rate'].quantile(0.75)\n",
    "\n",
    "iqr = q3-q1\n",
    "\n",
    "upper_tail=q3+1.5*iqr\n",
    "lower_tail=q1-1.5*iqr\n",
    "\n",
    "print('q1-->',q1)\n",
    "print('q2-->',q2)\n",
    "print('q3-->',q3)\n",
    "print('upper_tail-->',upper_tail)\n",
    "print('lower_tail-->',lower_tail)\n",
    "\n",
    "print(\"mean-->\",(df['int.rate'].mean()))\n",
    "\n",
    "df['int.rate'].median()\n",
    "\n",
    "size_df=df[['int.rate']].loc[(df['int.rate'] < upper_tail) & \n",
    "                                   (df['int.rate'] > lower_tail)].median()[0]\n",
    "print(size_df)  \n",
    "\n",
    "df.loc[(df['int.rate'] > upper_tail) |\n",
    "                (df['int.rate'] < lower_tail), 'int.rate'] = upper_tail\n",
    "\n",
    "\n",
    "df[['int.rate']].boxplot()\n"
   ]
  },
  {
   "cell_type": "code",
   "execution_count": 56,
   "id": "63f170a8",
   "metadata": {},
   "outputs": [
    {
     "data": {
      "text/plain": [
       "<AxesSubplot:>"
      ]
     },
     "execution_count": 56,
     "metadata": {},
     "output_type": "execute_result"
    },
    {
     "data": {
      "image/png": "[encoded data removed]",
      "text/plain": [
       "<Figure size 640x480 with 1 Axes>"
      ]
     },
     "metadata": {},
     "output_type": "display_data"
    }
   ],
   "source": [
    "df[['installment']].boxplot() # 4"
   ]
  },
  {
   "cell_type": "code",
   "execution_count": 57,
   "id": "d790e24a",
   "metadata": {},
   "outputs": [
    {
     "name": "stdout",
     "output_type": "stream",
     "text": [
      "q1--> 163.77\n",
      "q2--> 268.95\n",
      "q3--> 432.7625\n",
      "upper_tail--> 836.2512499999999\n",
      "lower_tail--> -239.71874999999991\n",
      "mean--> 319.08941323867197\n",
      "263.735\n"
     ]
    },
    {
     "data": {
      "text/plain": [
       "<AxesSubplot:>"
      ]
     },
     "execution_count": 57,
     "metadata": {},
     "output_type": "execute_result"
    },
    {
     "data": {
      "image/png": "[encoded data removed]",
      "text/plain": [
       "<Figure size 640x480 with 1 Axes>"
      ]
     },
     "metadata": {},
     "output_type": "display_data"
    }
   ],
   "source": [
    "q1=df['installment'].quantile(0.25)\n",
    "q2=df['installment'].quantile(0.50)\n",
    "q3=df['installment'].quantile(0.75)\n",
    "\n",
    "iqr = q3-q1\n",
    "\n",
    "upper_tail=q3+1.5*iqr\n",
    "lower_tail=q1-1.5*iqr\n",
    "\n",
    "print('q1-->',q1)\n",
    "print('q2-->',q2)\n",
    "print('q3-->',q3)\n",
    "print('upper_tail-->',upper_tail)\n",
    "print('lower_tail-->',lower_tail)\n",
    "\n",
    "print(\"mean-->\",(df['installment'].mean()))\n",
    "\n",
    "df['installment'].median()\n",
    "\n",
    "size_df=df[['installment']].loc[(df['installment'] < upper_tail) & \n",
    "                                   (df['installment'] > lower_tail)].median()[0]\n",
    "print(size_df)  \n",
    "\n",
    "df.loc[(df['installment'] > upper_tail) |\n",
    "                (df['installment'] < lower_tail), 'installment'] = upper_tail\n",
    "\n",
    "\n",
    "df[['installment']].boxplot()"
   ]
  },
  {
   "cell_type": "code",
   "execution_count": 58,
   "id": "1fef0d31",
   "metadata": {},
   "outputs": [
    {
     "data": {
      "text/plain": [
       "<AxesSubplot:>"
      ]
     },
     "execution_count": 58,
     "metadata": {},
     "output_type": "execute_result"
    },
    {
     "data": {
      "image/png": "[encoded data removed]",
      "text/plain": [
       "<Figure size 640x480 with 1 Axes>"
      ]
     },
     "metadata": {},
     "output_type": "display_data"
    }
   ],
   "source": [
    "df[['log.annual.inc']].boxplot() # 5"
   ]
  },
  {
   "cell_type": "code",
   "execution_count": 59,
   "id": "bdb721b3",
   "metadata": {},
   "outputs": [
    {
     "name": "stdout",
     "output_type": "stream",
     "text": [
      "q1--> 10.55841352\n",
      "q2--> 10.92888357\n",
      "q3--> 11.2912929175\n",
      "upper_tail--> 12.39061201375\n",
      "lower_tail--> 9.45909442375\n",
      "mean--> 10.93211713780027\n",
      "10.927555865\n"
     ]
    },
    {
     "data": {
      "text/plain": [
       "<AxesSubplot:>"
      ]
     },
     "execution_count": 59,
     "metadata": {},
     "output_type": "execute_result"
    },
    {
     "data": {
      "image/png": "[encoded data removed]",
      "text/plain": [
       "<Figure size 640x480 with 1 Axes>"
      ]
     },
     "metadata": {},
     "output_type": "display_data"
    }
   ],
   "source": [
    "q1=df['log.annual.inc'].quantile(0.25)\n",
    "q2=df['log.annual.inc'].quantile(0.50)\n",
    "q3=df['log.annual.inc'].quantile(0.75)\n",
    "\n",
    "iqr = q3-q1\n",
    "\n",
    "upper_tail=q3+1.5*iqr\n",
    "lower_tail=q1-1.5*iqr\n",
    "\n",
    "print('q1-->',q1)\n",
    "print('q2-->',q2)\n",
    "print('q3-->',q3)\n",
    "print('upper_tail-->',upper_tail)\n",
    "print('lower_tail-->',lower_tail)\n",
    "\n",
    "print(\"mean-->\",(df['log.annual.inc'].mean()))\n",
    "\n",
    "df['log.annual.inc'].median()\n",
    "\n",
    "size_df=df[['log.annual.inc']].loc[(df['log.annual.inc'] < upper_tail) & \n",
    "                                   (df['log.annual.inc'] > lower_tail)].median()[0]\n",
    "print(size_df)  \n",
    "\n",
    "df.loc[(df['log.annual.inc'] > upper_tail) |\n",
    "                (df['log.annual.inc'] < lower_tail), 'log.annual.inc'] = lower_tail\n",
    "\n",
    "\n",
    "df[['log.annual.inc']].boxplot()"
   ]
  },
  {
   "cell_type": "code",
   "execution_count": 60,
   "id": "54b53056",
   "metadata": {},
   "outputs": [
    {
     "data": {
      "text/plain": [
       "<AxesSubplot:>"
      ]
     },
     "execution_count": 60,
     "metadata": {},
     "output_type": "execute_result"
    },
    {
     "data": {
      "image/png": "[encoded data removed]",
      "text/plain": [
       "<Figure size 640x480 with 1 Axes>"
      ]
     },
     "metadata": {},
     "output_type": "display_data"
    }
   ],
   "source": [
    "df[['dti']].boxplot()# 6"
   ]
  },
  {
   "cell_type": "code",
   "execution_count": 61,
   "id": "9b6e2f71",
   "metadata": {},
   "outputs": [
    {
     "data": {
      "text/plain": [
       "<AxesSubplot:>"
      ]
     },
     "execution_count": 61,
     "metadata": {},
     "output_type": "execute_result"
    },
    {
     "data": {
      "image/png": "[encoded data removed]",
      "text/plain": [
       "<Figure size 640x480 with 1 Axes>"
      ]
     },
     "metadata": {},
     "output_type": "display_data"
    }
   ],
   "source": [
    "df[['fico']].boxplot() # 7"
   ]
  },
  {
   "cell_type": "code",
   "execution_count": 62,
   "id": "26e8f4f9",
   "metadata": {},
   "outputs": [
    {
     "name": "stdout",
     "output_type": "stream",
     "text": [
      "q1--> 682.0\n",
      "q2--> 707.0\n",
      "q3--> 737.0\n",
      "upper_tail--> 819.5\n",
      "lower_tail--> 599.5\n",
      "mean--> 710.8463144706619\n",
      "707.0\n"
     ]
    },
    {
     "data": {
      "text/plain": [
       "<AxesSubplot:>"
      ]
     },
     "execution_count": 62,
     "metadata": {},
     "output_type": "execute_result"
    },
    {
     "data": {
      "image/png": "[encoded data removed]",
      "text/plain": [
       "<Figure size 640x480 with 1 Axes>"
      ]
     },
     "metadata": {},
     "output_type": "display_data"
    }
   ],
   "source": [
    "q1=df['fico'].quantile(0.25)\n",
    "q2=df['fico'].quantile(0.50)\n",
    "q3=df['fico'].quantile(0.75)\n",
    "\n",
    "iqr = q3-q1\n",
    "\n",
    "upper_tail=q3+1.5*iqr\n",
    "lower_tail=q1-1.5*iqr\n",
    "\n",
    "print('q1-->',q1)\n",
    "print('q2-->',q2)\n",
    "print('q3-->',q3)\n",
    "print('upper_tail-->',upper_tail)\n",
    "print('lower_tail-->',lower_tail)\n",
    "\n",
    "print(\"mean-->\",(df['fico'].mean()))\n",
    "\n",
    "df['fico'].median()\n",
    "\n",
    "size_df=df[['fico']].loc[(df['fico'] < upper_tail) & \n",
    "                                   (df['fico'] > lower_tail)].median()[0]\n",
    "print(size_df)  \n",
    "\n",
    "df.loc[(df['fico'] > upper_tail) |\n",
    "                (df['fico'] < lower_tail), 'fico'] = lower_tail\n",
    "\n",
    "\n",
    "df[['fico']].boxplot()"
   ]
  },
  {
   "cell_type": "code",
   "execution_count": 63,
   "id": "43ed9cb9",
   "metadata": {
    "scrolled": true
   },
   "outputs": [
    {
     "data": {
      "text/plain": [
       "<AxesSubplot:>"
      ]
     },
     "execution_count": 63,
     "metadata": {},
     "output_type": "execute_result"
    },
    {
     "data": {
      "image/png": "[encoded data removed]",
      "text/plain": [
       "<Figure size 640x480 with 1 Axes>"
      ]
     },
     "metadata": {},
     "output_type": "display_data"
    }
   ],
   "source": [
    "df[['days.with.cr.line']].boxplot() # 8"
   ]
  },
  {
   "cell_type": "code",
   "execution_count": 64,
   "id": "aacd9e73",
   "metadata": {},
   "outputs": [
    {
     "name": "stdout",
     "output_type": "stream",
     "text": [
      "q1--> 2820.0\n",
      "q2--> 4139.958333\n",
      "q3--> 5730.0\n",
      "upper_tail--> 10095.0\n",
      "lower_tail--> -1545.0\n",
      "mean--> 4560.767196529213\n",
      "4050.0\n"
     ]
    },
    {
     "data": {
      "text/plain": [
       "<AxesSubplot:>"
      ]
     },
     "execution_count": 64,
     "metadata": {},
     "output_type": "execute_result"
    },
    {
     "data": {
      "image/png": "[encoded data removed]",
      "text/plain": [
       "<Figure size 640x480 with 1 Axes>"
      ]
     },
     "metadata": {},
     "output_type": "display_data"
    }
   ],
   "source": [
    "q1=df['days.with.cr.line'].quantile(0.25)\n",
    "q2=df['days.with.cr.line'].quantile(0.50)\n",
    "q3=df['days.with.cr.line'].quantile(0.75)\n",
    "\n",
    "iqr = q3-q1\n",
    "\n",
    "upper_tail=q3+1.5*iqr\n",
    "lower_tail=q1-1.5*iqr\n",
    "\n",
    "print('q1-->',q1)\n",
    "print('q2-->',q2)\n",
    "print('q3-->',q3)\n",
    "print('upper_tail-->',upper_tail)\n",
    "print('lower_tail-->',lower_tail)\n",
    "\n",
    "print(\"mean-->\",(df['days.with.cr.line'].mean()))\n",
    "\n",
    "df['days.with.cr.line'].median()\n",
    "\n",
    "size_df=df[['days.with.cr.line']].loc[(df['days.with.cr.line'] < upper_tail) & \n",
    "                                   (df['days.with.cr.line'] > lower_tail)].median()[0]\n",
    "print(size_df)  \n",
    "\n",
    "df.loc[(df['days.with.cr.line'] > upper_tail) |\n",
    "                (df['days.with.cr.line'] < lower_tail), 'days.with.cr.line'] = upper_tail\n",
    "\n",
    "\n",
    "df[['days.with.cr.line']].boxplot()"
   ]
  },
  {
   "cell_type": "code",
   "execution_count": 65,
   "id": "8a909ee9",
   "metadata": {},
   "outputs": [
    {
     "data": {
      "text/plain": [
       "<AxesSubplot:>"
      ]
     },
     "execution_count": 65,
     "metadata": {},
     "output_type": "execute_result"
    },
    {
     "data": {
      "image/png": "[encoded data removed]",
      "text/plain": [
       "<Figure size 640x480 with 1 Axes>"
      ]
     },
     "metadata": {},
     "output_type": "display_data"
    }
   ],
   "source": [
    "df[['revol.bal']].boxplot() # 9"
   ]
  },
  {
   "cell_type": "code",
   "execution_count": 66,
   "id": "3e7044cd",
   "metadata": {},
   "outputs": [
    {
     "name": "stdout",
     "output_type": "stream",
     "text": [
      "q1--> 3187.0\n",
      "q2--> 8596.0\n",
      "q3--> 18249.5\n",
      "upper_tail--> 40843.25\n",
      "lower_tail--> -19406.75\n",
      "mean--> 16913.963875548132\n",
      "7513.0\n"
     ]
    },
    {
     "data": {
      "text/plain": [
       "<AxesSubplot:>"
      ]
     },
     "execution_count": 66,
     "metadata": {},
     "output_type": "execute_result"
    },
    {
     "data": {
      "image/png": "[encoded data removed]",
      "text/plain": [
       "<Figure size 640x480 with 1 Axes>"
      ]
     },
     "metadata": {},
     "output_type": "display_data"
    }
   ],
   "source": [
    "q1=df['revol.bal'].quantile(0.25)\n",
    "q2=df['revol.bal'].quantile(0.50)\n",
    "q3=df['revol.bal'].quantile(0.75)\n",
    "\n",
    "iqr = q3-q1\n",
    "\n",
    "upper_tail=q3+1.5*iqr\n",
    "lower_tail=q1-1.5*iqr\n",
    "\n",
    "print('q1-->',q1)\n",
    "print('q2-->',q2)\n",
    "print('q3-->',q3)\n",
    "print('upper_tail-->',upper_tail)\n",
    "print('lower_tail-->',lower_tail)\n",
    "\n",
    "print(\"mean-->\",(df['revol.bal'].mean()))\n",
    "\n",
    "df['revol.bal'].median()\n",
    "\n",
    "size_df=df[['revol.bal']].loc[(df['revol.bal'] < upper_tail) & \n",
    "                                   (df['revol.bal'] > lower_tail)].median()[0]\n",
    "print(size_df)  \n",
    "\n",
    "df.loc[(df['revol.bal'] > upper_tail) |\n",
    "                (df['revol.bal'] < lower_tail), 'revol.bal'] = upper_tail\n",
    "\n",
    "\n",
    "df[['revol.bal']].boxplot()"
   ]
  },
  {
   "cell_type": "code",
   "execution_count": 67,
   "id": "6b93e38d",
   "metadata": {},
   "outputs": [
    {
     "data": {
      "text/plain": [
       "<AxesSubplot:>"
      ]
     },
     "execution_count": 67,
     "metadata": {},
     "output_type": "execute_result"
    },
    {
     "data": {
      "image/png": "[encoded data removed]",
      "text/plain": [
       "<Figure size 640x480 with 1 Axes>"
      ]
     },
     "metadata": {},
     "output_type": "display_data"
    }
   ],
   "source": [
    "df[['revol.util']].boxplot() # 10"
   ]
  },
  {
   "cell_type": "code",
   "execution_count": 68,
   "id": "116a618f",
   "metadata": {},
   "outputs": [
    {
     "data": {
      "text/plain": [
       "<AxesSubplot:>"
      ]
     },
     "execution_count": 68,
     "metadata": {},
     "output_type": "execute_result"
    },
    {
     "data": {
      "image/png": "[encoded data removed]",
      "text/plain": [
       "<Figure size 640x480 with 1 Axes>"
      ]
     },
     "metadata": {},
     "output_type": "display_data"
    }
   ],
   "source": [
    "df[['inq.last.6mths']].boxplot() # 11"
   ]
  },
  {
   "cell_type": "code",
   "execution_count": 69,
   "id": "bc70d104",
   "metadata": {},
   "outputs": [
    {
     "name": "stdout",
     "output_type": "stream",
     "text": [
      "q1--> 0.0\n",
      "q2--> 1.0\n",
      "q3--> 2.0\n",
      "upper_tail--> 5.0\n",
      "lower_tail--> -3.0\n",
      "mean--> 1.5774692002505741\n",
      "1.0\n"
     ]
    },
    {
     "data": {
      "text/plain": [
       "<AxesSubplot:>"
      ]
     },
     "execution_count": 69,
     "metadata": {},
     "output_type": "execute_result"
    },
    {
     "data": {
      "image/png": "[encoded data removed]",
      "text/plain": [
       "<Figure size 640x480 with 1 Axes>"
      ]
     },
     "metadata": {},
     "output_type": "display_data"
    }
   ],
   "source": [
    "q1=df['inq.last.6mths'].quantile(0.25)\n",
    "q2=df['inq.last.6mths'].quantile(0.50)\n",
    "q3=df['inq.last.6mths'].quantile(0.75)\n",
    "\n",
    "iqr = q3-q1\n",
    "\n",
    "upper_tail=q3+1.5*iqr\n",
    "lower_tail=q1-1.5*iqr\n",
    "\n",
    "print('q1-->',q1)\n",
    "print('q2-->',q2)\n",
    "print('q3-->',q3)\n",
    "print('upper_tail-->',upper_tail)\n",
    "print('lower_tail-->',lower_tail)\n",
    "\n",
    "print(\"mean-->\",(df['inq.last.6mths'].mean()))\n",
    "\n",
    "df['inq.last.6mths'].median()\n",
    "\n",
    "size_df=df[['inq.last.6mths']].loc[(df['inq.last.6mths'] < upper_tail) & \n",
    "                                   (df['inq.last.6mths'] > lower_tail)].median()[0]\n",
    "print(size_df)  \n",
    "\n",
    "df.loc[(df['inq.last.6mths'] > upper_tail) |\n",
    "                (df['inq.last.6mths'] < lower_tail), 'inq.last.6mths'] = size_df\n",
    "\n",
    "\n",
    "df[['inq.last.6mths']].boxplot()"
   ]
  },
  {
   "cell_type": "code",
   "execution_count": 70,
   "id": "0ab19361",
   "metadata": {},
   "outputs": [
    {
     "data": {
      "text/plain": [
       "<AxesSubplot:>"
      ]
     },
     "execution_count": 70,
     "metadata": {},
     "output_type": "execute_result"
    },
    {
     "data": {
      "image/png": "[encoded data removed]",
      "text/plain": [
       "<Figure size 640x480 with 1 Axes>"
      ]
     },
     "metadata": {},
     "output_type": "display_data"
    }
   ],
   "source": [
    "df[['delinq.2yrs']].boxplot() # 12"
   ]
  },
  {
   "cell_type": "code",
   "execution_count": 71,
   "id": "1a1bc1ee",
   "metadata": {},
   "outputs": [
    {
     "data": {
      "text/plain": [
       "<AxesSubplot:>"
      ]
     },
     "execution_count": 71,
     "metadata": {},
     "output_type": "execute_result"
    },
    {
     "data": {
      "image/png": "[encoded data removed]",
      "text/plain": [
       "<Figure size 640x480 with 1 Axes>"
      ]
     },
     "metadata": {},
     "output_type": "display_data"
    }
   ],
   "source": [
    "df[['pub.rec']].boxplot() # 13"
   ]
  },
  {
   "cell_type": "code",
   "execution_count": 72,
   "id": "9aa51178",
   "metadata": {},
   "outputs": [
    {
     "name": "stdout",
     "output_type": "stream",
     "text": [
      "<class 'pandas.core.frame.DataFrame'>\n",
      "RangeIndex: 9578 entries, 0 to 9577\n",
      "Data columns (total 14 columns):\n",
      " #   Column             Non-Null Count  Dtype  \n",
      "---  ------             --------------  -----  \n",
      " 0   credit.policy      9578 non-null   int64  \n",
      " 1   purpose            9578 non-null   int32  \n",
      " 2   int.rate           9578 non-null   float64\n",
      " 3   installment        9578 non-null   float64\n",
      " 4   log.annual.inc     9578 non-null   float64\n",
      " 5   dti                9578 non-null   float64\n",
      " 6   fico               9578 non-null   float64\n",
      " 7   days.with.cr.line  9578 non-null   float64\n",
      " 8   revol.bal          9578 non-null   float64\n",
      " 9   revol.util         9578 non-null   float64\n",
      " 10  inq.last.6mths     9578 non-null   int64  \n",
      " 11  delinq.2yrs        9578 non-null   int64  \n",
      " 12  pub.rec            9578 non-null   int64  \n",
      " 13  not.fully.paid     9578 non-null   int64  \n",
      "dtypes: float64(8), int32(1), int64(5)\n",
      "memory usage: 1010.3 KB\n"
     ]
    }
   ],
   "source": [
    "df.info()"
   ]
  },
  {
   "cell_type": "markdown",
   "id": "7d8967f9",
   "metadata": {},
   "source": [
    "# Feature Selection"
   ]
  },
  {
   "cell_type": "code",
   "execution_count": 73,
   "id": "1d67d7bc",
   "metadata": {},
   "outputs": [
    {
     "data": {
      "text/html": [
       "<div>\n",
       "<style scoped>\n",
       "    .dataframe tbody tr th:only-of-type {\n",
       "        vertical-align: middle;\n",
       "    }\n",
       "\n",
       "    .dataframe tbody tr th {\n",
       "        vertical-align: top;\n",
       "    }\n",
       "\n",
       "    .dataframe thead th {\n",
       "        text-align: right;\n",
       "    }\n",
       "</style>\n",
       "<table border=\"1\" class=\"dataframe\">\n",
       "  <thead>\n",
       "    <tr style=\"text-align: right;\">\n",
       "      <th></th>\n",
       "      <th>credit.policy</th>\n",
       "      <th>purpose</th>\n",
       "      <th>int.rate</th>\n",
       "      <th>installment</th>\n",
       "      <th>log.annual.inc</th>\n",
       "      <th>dti</th>\n",
       "      <th>fico</th>\n",
       "      <th>days.with.cr.line</th>\n",
       "      <th>revol.bal</th>\n",
       "      <th>revol.util</th>\n",
       "      <th>inq.last.6mths</th>\n",
       "      <th>delinq.2yrs</th>\n",
       "      <th>pub.rec</th>\n",
       "      <th>not.fully.paid</th>\n",
       "    </tr>\n",
       "  </thead>\n",
       "  <tbody>\n",
       "    <tr>\n",
       "      <th>credit.policy</th>\n",
       "      <td>1.000000</td>\n",
       "      <td>0.016640</td>\n",
       "      <td>-0.293919</td>\n",
       "      <td>0.060490</td>\n",
       "      <td>0.059252</td>\n",
       "      <td>-0.090901</td>\n",
       "      <td>0.346518</td>\n",
       "      <td>0.107183</td>\n",
       "      <td>-0.064491</td>\n",
       "      <td>-0.104095</td>\n",
       "      <td>-0.374019</td>\n",
       "      <td>-0.076318</td>\n",
       "      <td>-0.054243</td>\n",
       "      <td>-0.158119</td>\n",
       "    </tr>\n",
       "    <tr>\n",
       "      <th>purpose</th>\n",
       "      <td>0.016640</td>\n",
       "      <td>1.000000</td>\n",
       "      <td>0.130742</td>\n",
       "      <td>0.175381</td>\n",
       "      <td>0.026758</td>\n",
       "      <td>0.081372</td>\n",
       "      <td>-0.063411</td>\n",
       "      <td>0.030497</td>\n",
       "      <td>0.079862</td>\n",
       "      <td>0.087275</td>\n",
       "      <td>0.003117</td>\n",
       "      <td>-0.013098</td>\n",
       "      <td>0.020778</td>\n",
       "      <td>0.013442</td>\n",
       "    </tr>\n",
       "    <tr>\n",
       "      <th>int.rate</th>\n",
       "      <td>-0.293919</td>\n",
       "      <td>0.130742</td>\n",
       "      <td>1.000000</td>\n",
       "      <td>0.272391</td>\n",
       "      <td>0.041182</td>\n",
       "      <td>0.221174</td>\n",
       "      <td>-0.711446</td>\n",
       "      <td>-0.127816</td>\n",
       "      <td>0.141327</td>\n",
       "      <td>0.466440</td>\n",
       "      <td>0.124045</td>\n",
       "      <td>0.156110</td>\n",
       "      <td>0.098399</td>\n",
       "      <td>0.159463</td>\n",
       "    </tr>\n",
       "    <tr>\n",
       "      <th>installment</th>\n",
       "      <td>0.060490</td>\n",
       "      <td>0.175381</td>\n",
       "      <td>0.272391</td>\n",
       "      <td>1.000000</td>\n",
       "      <td>0.395285</td>\n",
       "      <td>0.050109</td>\n",
       "      <td>0.087638</td>\n",
       "      <td>0.194094</td>\n",
       "      <td>0.331165</td>\n",
       "      <td>0.080691</td>\n",
       "      <td>-0.007798</td>\n",
       "      <td>-0.004982</td>\n",
       "      <td>-0.033096</td>\n",
       "      <td>0.048704</td>\n",
       "    </tr>\n",
       "    <tr>\n",
       "      <th>log.annual.inc</th>\n",
       "      <td>0.059252</td>\n",
       "      <td>0.026758</td>\n",
       "      <td>0.041182</td>\n",
       "      <td>0.395285</td>\n",
       "      <td>1.000000</td>\n",
       "      <td>-0.005700</td>\n",
       "      <td>0.099518</td>\n",
       "      <td>0.326224</td>\n",
       "      <td>0.392352</td>\n",
       "      <td>0.051333</td>\n",
       "      <td>0.010610</td>\n",
       "      <td>0.033555</td>\n",
       "      <td>0.023874</td>\n",
       "      <td>-0.039479</td>\n",
       "    </tr>\n",
       "    <tr>\n",
       "      <th>dti</th>\n",
       "      <td>-0.090901</td>\n",
       "      <td>0.081372</td>\n",
       "      <td>0.221174</td>\n",
       "      <td>0.050109</td>\n",
       "      <td>-0.005700</td>\n",
       "      <td>1.000000</td>\n",
       "      <td>-0.236709</td>\n",
       "      <td>0.066075</td>\n",
       "      <td>0.338402</td>\n",
       "      <td>0.337109</td>\n",
       "      <td>0.026781</td>\n",
       "      <td>-0.021792</td>\n",
       "      <td>0.006209</td>\n",
       "      <td>0.037362</td>\n",
       "    </tr>\n",
       "    <tr>\n",
       "      <th>fico</th>\n",
       "      <td>0.346518</td>\n",
       "      <td>-0.063411</td>\n",
       "      <td>-0.711446</td>\n",
       "      <td>0.087638</td>\n",
       "      <td>0.099518</td>\n",
       "      <td>-0.236709</td>\n",
       "      <td>1.000000</td>\n",
       "      <td>0.260205</td>\n",
       "      <td>-0.076207</td>\n",
       "      <td>-0.535833</td>\n",
       "      <td>-0.129147</td>\n",
       "      <td>-0.215243</td>\n",
       "      <td>-0.146724</td>\n",
       "      <td>-0.149732</td>\n",
       "    </tr>\n",
       "    <tr>\n",
       "      <th>days.with.cr.line</th>\n",
       "      <td>0.107183</td>\n",
       "      <td>0.030497</td>\n",
       "      <td>-0.127816</td>\n",
       "      <td>0.194094</td>\n",
       "      <td>0.326224</td>\n",
       "      <td>0.066075</td>\n",
       "      <td>0.260205</td>\n",
       "      <td>1.000000</td>\n",
       "      <td>0.316453</td>\n",
       "      <td>-0.017003</td>\n",
       "      <td>-0.035114</td>\n",
       "      <td>0.085715</td>\n",
       "      <td>0.078789</td>\n",
       "      <td>-0.029747</td>\n",
       "    </tr>\n",
       "    <tr>\n",
       "      <th>revol.bal</th>\n",
       "      <td>-0.064491</td>\n",
       "      <td>0.079862</td>\n",
       "      <td>0.141327</td>\n",
       "      <td>0.331165</td>\n",
       "      <td>0.392352</td>\n",
       "      <td>0.338402</td>\n",
       "      <td>-0.076207</td>\n",
       "      <td>0.316453</td>\n",
       "      <td>1.000000</td>\n",
       "      <td>0.417738</td>\n",
       "      <td>0.007628</td>\n",
       "      <td>-0.058895</td>\n",
       "      <td>-0.047677</td>\n",
       "      <td>0.035042</td>\n",
       "    </tr>\n",
       "    <tr>\n",
       "      <th>revol.util</th>\n",
       "      <td>-0.104095</td>\n",
       "      <td>0.087275</td>\n",
       "      <td>0.466440</td>\n",
       "      <td>0.080691</td>\n",
       "      <td>0.051333</td>\n",
       "      <td>0.337109</td>\n",
       "      <td>-0.535833</td>\n",
       "      <td>-0.017003</td>\n",
       "      <td>0.417738</td>\n",
       "      <td>1.000000</td>\n",
       "      <td>-0.011376</td>\n",
       "      <td>-0.042740</td>\n",
       "      <td>0.066717</td>\n",
       "      <td>0.082088</td>\n",
       "    </tr>\n",
       "    <tr>\n",
       "      <th>inq.last.6mths</th>\n",
       "      <td>-0.374019</td>\n",
       "      <td>0.003117</td>\n",
       "      <td>0.124045</td>\n",
       "      <td>-0.007798</td>\n",
       "      <td>0.010610</td>\n",
       "      <td>0.026781</td>\n",
       "      <td>-0.129147</td>\n",
       "      <td>-0.035114</td>\n",
       "      <td>0.007628</td>\n",
       "      <td>-0.011376</td>\n",
       "      <td>1.000000</td>\n",
       "      <td>0.018432</td>\n",
       "      <td>0.031906</td>\n",
       "      <td>0.096596</td>\n",
       "    </tr>\n",
       "    <tr>\n",
       "      <th>delinq.2yrs</th>\n",
       "      <td>-0.076318</td>\n",
       "      <td>-0.013098</td>\n",
       "      <td>0.156110</td>\n",
       "      <td>-0.004982</td>\n",
       "      <td>0.033555</td>\n",
       "      <td>-0.021792</td>\n",
       "      <td>-0.215243</td>\n",
       "      <td>0.085715</td>\n",
       "      <td>-0.058895</td>\n",
       "      <td>-0.042740</td>\n",
       "      <td>0.018432</td>\n",
       "      <td>1.000000</td>\n",
       "      <td>0.009184</td>\n",
       "      <td>0.008881</td>\n",
       "    </tr>\n",
       "    <tr>\n",
       "      <th>pub.rec</th>\n",
       "      <td>-0.054243</td>\n",
       "      <td>0.020778</td>\n",
       "      <td>0.098399</td>\n",
       "      <td>-0.033096</td>\n",
       "      <td>0.023874</td>\n",
       "      <td>0.006209</td>\n",
       "      <td>-0.146724</td>\n",
       "      <td>0.078789</td>\n",
       "      <td>-0.047677</td>\n",
       "      <td>0.066717</td>\n",
       "      <td>0.031906</td>\n",
       "      <td>0.009184</td>\n",
       "      <td>1.000000</td>\n",
       "      <td>0.048634</td>\n",
       "    </tr>\n",
       "    <tr>\n",
       "      <th>not.fully.paid</th>\n",
       "      <td>-0.158119</td>\n",
       "      <td>0.013442</td>\n",
       "      <td>0.159463</td>\n",
       "      <td>0.048704</td>\n",
       "      <td>-0.039479</td>\n",
       "      <td>0.037362</td>\n",
       "      <td>-0.149732</td>\n",
       "      <td>-0.029747</td>\n",
       "      <td>0.035042</td>\n",
       "      <td>0.082088</td>\n",
       "      <td>0.096596</td>\n",
       "      <td>0.008881</td>\n",
       "      <td>0.048634</td>\n",
       "      <td>1.000000</td>\n",
       "    </tr>\n",
       "  </tbody>\n",
       "</table>\n",
       "</div>"
      ],
      "text/plain": [
       "                   credit.policy   purpose  int.rate  installment  \\\n",
       "credit.policy           1.000000  0.016640 -0.293919     0.060490   \n",
       "purpose                 0.016640  1.000000  0.130742     0.175381   \n",
       "int.rate               -0.293919  0.130742  1.000000     0.272391   \n",
       "installment             0.060490  0.175381  0.272391     1.000000   \n",
       "log.annual.inc          0.059252  0.026758  0.041182     0.395285   \n",
       "dti                    -0.090901  0.081372  0.221174     0.050109   \n",
       "fico                    0.346518 -0.063411 -0.711446     0.087638   \n",
       "days.with.cr.line       0.107183  0.030497 -0.127816     0.194094   \n",
       "revol.bal              -0.064491  0.079862  0.141327     0.331165   \n",
       "revol.util             -0.104095  0.087275  0.466440     0.080691   \n",
       "inq.last.6mths         -0.374019  0.003117  0.124045    -0.007798   \n",
       "delinq.2yrs            -0.076318 -0.013098  0.156110    -0.004982   \n",
       "pub.rec                -0.054243  0.020778  0.098399    -0.033096   \n",
       "not.fully.paid         -0.158119  0.013442  0.159463     0.048704   \n",
       "\n",
       "                   log.annual.inc       dti      fico  days.with.cr.line  \\\n",
       "credit.policy            0.059252 -0.090901  0.346518           0.107183   \n",
       "purpose                  0.026758  0.081372 -0.063411           0.030497   \n",
       "int.rate                 0.041182  0.221174 -0.711446          -0.127816   \n",
       "installment              0.395285  0.050109  0.087638           0.194094   \n",
       "log.annual.inc           1.000000 -0.005700  0.099518           0.326224   \n",
       "dti                     -0.005700  1.000000 -0.236709           0.066075   \n",
       "fico                     0.099518 -0.236709  1.000000           0.260205   \n",
       "days.with.cr.line        0.326224  0.066075  0.260205           1.000000   \n",
       "revol.bal                0.392352  0.338402 -0.076207           0.316453   \n",
       "revol.util               0.051333  0.337109 -0.535833          -0.017003   \n",
       "inq.last.6mths           0.010610  0.026781 -0.129147          -0.035114   \n",
       "delinq.2yrs              0.033555 -0.021792 -0.215243           0.085715   \n",
       "pub.rec                  0.023874  0.006209 -0.146724           0.078789   \n",
       "not.fully.paid          -0.039479  0.037362 -0.149732          -0.029747   \n",
       "\n",
       "                   revol.bal  revol.util  inq.last.6mths  delinq.2yrs  \\\n",
       "credit.policy      -0.064491   -0.104095       -0.374019    -0.076318   \n",
       "purpose             0.079862    0.087275        0.003117    -0.013098   \n",
       "int.rate            0.141327    0.466440        0.124045     0.156110   \n",
       "installment         0.331165    0.080691       -0.007798    -0.004982   \n",
       "log.annual.inc      0.392352    0.051333        0.010610     0.033555   \n",
       "dti                 0.338402    0.337109        0.026781    -0.021792   \n",
       "fico               -0.076207   -0.535833       -0.129147    -0.215243   \n",
       "days.with.cr.line   0.316453   -0.017003       -0.035114     0.085715   \n",
       "revol.bal           1.000000    0.417738        0.007628    -0.058895   \n",
       "revol.util          0.417738    1.000000       -0.011376    -0.042740   \n",
       "inq.last.6mths      0.007628   -0.011376        1.000000     0.018432   \n",
       "delinq.2yrs        -0.058895   -0.042740        0.018432     1.000000   \n",
       "pub.rec            -0.047677    0.066717        0.031906     0.009184   \n",
       "not.fully.paid      0.035042    0.082088        0.096596     0.008881   \n",
       "\n",
       "                    pub.rec  not.fully.paid  \n",
       "credit.policy     -0.054243       -0.158119  \n",
       "purpose            0.020778        0.013442  \n",
       "int.rate           0.098399        0.159463  \n",
       "installment       -0.033096        0.048704  \n",
       "log.annual.inc     0.023874       -0.039479  \n",
       "dti                0.006209        0.037362  \n",
       "fico              -0.146724       -0.149732  \n",
       "days.with.cr.line  0.078789       -0.029747  \n",
       "revol.bal         -0.047677        0.035042  \n",
       "revol.util         0.066717        0.082088  \n",
       "inq.last.6mths     0.031906        0.096596  \n",
       "delinq.2yrs        0.009184        0.008881  \n",
       "pub.rec            1.000000        0.048634  \n",
       "not.fully.paid     0.048634        1.000000  "
      ]
     },
     "execution_count": 73,
     "metadata": {},
     "output_type": "execute_result"
    }
   ],
   "source": [
    "df.corr()"
   ]
  },
  {
   "cell_type": "code",
   "execution_count": 74,
   "id": "eed798d4",
   "metadata": {},
   "outputs": [
    {
     "data": {
      "text/plain": [
       "<AxesSubplot:>"
      ]
     },
     "execution_count": 74,
     "metadata": {},
     "output_type": "execute_result"
    },
    {
     "data": {
      "image/png": "[encoded data removed]",
      "text/plain": [
       "<Figure size 2000x2000 with 2 Axes>"
      ]
     },
     "metadata": {},
     "output_type": "display_data"
    }
   ],
   "source": [
    "\n",
    "plt.figure(figsize=(20,20))\n",
    "sns.heatmap(df.corr(),annot = True)"
   ]
  },
  {
   "cell_type": "markdown",
   "id": "f90a86fe",
   "metadata": {},
   "source": [
    "# Model Training"
   ]
  },
  {
   "cell_type": "code",
   "execution_count": 76,
   "id": "45f1596f",
   "metadata": {},
   "outputs": [],
   "source": [
    "x = df.drop('not.fully.paid',axis = 1)\n",
    "y = df['not.fully.paid']"
   ]
  },
  {
   "cell_type": "code",
   "execution_count": 117,
   "id": "07be94df",
   "metadata": {},
   "outputs": [],
   "source": [
    "x_train,x_test,y_train,y_test = train_test_split(x,y,test_size=0.40,random_state=1,stratify =y)"
   ]
  },
  {
   "cell_type": "code",
   "execution_count": 118,
   "id": "dcf868d8",
   "metadata": {},
   "outputs": [
    {
     "data": {
      "text/html": [
       "<style>#sk-container-id-4 {color: black;background-color: white;}#sk-container-id-4 pre{padding: 0;}#sk-container-id-4 div.sk-toggleable {background-color: white;}#sk-container-id-4 label.sk-toggleable__label {cursor: pointer;display: block;width: 100%;margin-bottom: 0;padding: 0.3em;box-sizing: border-box;text-align: center;}#sk-container-id-4 label.sk-toggleable__label-arrow:before {content: \"▸\";float: left;margin-right: 0.25em;color: #696969;}#sk-container-id-4 label.sk-toggleable__label-arrow:hover:before {color: black;}#sk-container-id-4 div.sk-estimator:hover label.sk-toggleable__label-arrow:before {color: black;}#sk-container-id-4 div.sk-toggleable__content {max-height: 0;max-width: 0;overflow: hidden;text-align: left;background-color: #f0f8ff;}#sk-container-id-4 div.sk-toggleable__content pre {margin: 0.2em;color: black;border-radius: 0.25em;background-color: #f0f8ff;}#sk-container-id-4 input.sk-toggleable__control:checked~div.sk-toggleable__content {max-height: 200px;max-width: 100%;overflow: auto;}#sk-container-id-4 input.sk-toggleable__control:checked~label.sk-toggleable__label-arrow:before {content: \"▾\";}#sk-container-id-4 div.sk-estimator input.sk-toggleable__control:checked~label.sk-toggleable__label {background-color: #d4ebff;}#sk-container-id-4 div.sk-label input.sk-toggleable__control:checked~label.sk-toggleable__label {background-color: #d4ebff;}#sk-container-id-4 input.sk-hidden--visually {border: 0;clip: rect(1px 1px 1px 1px);clip: rect(1px, 1px, 1px, 1px);height: 1px;margin: -1px;overflow: hidden;padding: 0;position: absolute;width: 1px;}#sk-container-id-4 div.sk-estimator {font-family: monospace;background-color: #f0f8ff;border: 1px dotted black;border-radius: 0.25em;box-sizing: border-box;margin-bottom: 0.5em;}#sk-container-id-4 div.sk-estimator:hover {background-color: #d4ebff;}#sk-container-id-4 div.sk-parallel-item::after {content: \"\";width: 100%;border-bottom: 1px solid gray;flex-grow: 1;}#sk-container-id-4 div.sk-label:hover label.sk-toggleable__label {background-color: #d4ebff;}#sk-container-id-4 div.sk-serial::before {content: \"\";position: absolute;border-left: 1px solid gray;box-sizing: border-box;top: 0;bottom: 0;left: 50%;z-index: 0;}#sk-container-id-4 div.sk-serial {display: flex;flex-direction: column;align-items: center;background-color: white;padding-right: 0.2em;padding-left: 0.2em;position: relative;}#sk-container-id-4 div.sk-item {position: relative;z-index: 1;}#sk-container-id-4 div.sk-parallel {display: flex;align-items: stretch;justify-content: center;background-color: white;position: relative;}#sk-container-id-4 div.sk-item::before, #sk-container-id-4 div.sk-parallel-item::before {content: \"\";position: absolute;border-left: 1px solid gray;box-sizing: border-box;top: 0;bottom: 0;left: 50%;z-index: -1;}#sk-container-id-4 div.sk-parallel-item {display: flex;flex-direction: column;z-index: 1;position: relative;background-color: white;}#sk-container-id-4 div.sk-parallel-item:first-child::after {align-self: flex-end;width: 50%;}#sk-container-id-4 div.sk-parallel-item:last-child::after {align-self: flex-start;width: 50%;}#sk-container-id-4 div.sk-parallel-item:only-child::after {width: 0;}#sk-container-id-4 div.sk-dashed-wrapped {border: 1px dashed gray;margin: 0 0.4em 0.5em 0.4em;box-sizing: border-box;padding-bottom: 0.4em;background-color: white;}#sk-container-id-4 div.sk-label label {font-family: monospace;font-weight: bold;display: inline-block;line-height: 1.2em;}#sk-container-id-4 div.sk-label-container {text-align: center;}#sk-container-id-4 div.sk-container {/* jupyter's `normalize.less` sets `[hidden] { display: none; }` but bootstrap.min.css set `[hidden] { display: none !important; }` so we also need the `!important` here to be able to override the default hidden behavior on the sphinx rendered scikit-learn.org. See: https://github.com/scikit-learn/scikit-learn/issues/21755 */display: inline-block !important;position: relative;}#sk-container-id-4 div.sk-text-repr-fallback {display: none;}</style><div id=\"sk-container-id-4\" class=\"sk-top-container\"><div class=\"sk-text-repr-fallback\"><pre>LogisticRegression()</pre><b>In a Jupyter environment, please rerun this cell to show the HTML representation or trust the notebook. <br />On GitHub, the HTML representation is unable to render, please try loading this page with nbviewer.org.</b></div><div class=\"sk-container\" hidden><div class=\"sk-item\"><div class=\"sk-estimator sk-toggleable\"><input class=\"sk-toggleable__control sk-hidden--visually\" id=\"sk-estimator-id-4\" type=\"checkbox\" checked><label for=\"sk-estimator-id-4\" class=\"sk-toggleable__label sk-toggleable__label-arrow\">LogisticRegression</label><div class=\"sk-toggleable__content\"><pre>LogisticRegression()</pre></div></div></div></div></div>"
      ],
      "text/plain": [
       "LogisticRegression()"
      ]
     },
     "execution_count": 118,
     "metadata": {},
     "output_type": "execute_result"
    }
   ],
   "source": [
    "loan_model = LogisticRegression()\n",
    "loan_model.fit(x_train,y_train)"
   ]
  },
  {
   "cell_type": "code",
   "execution_count": 119,
   "id": "393f42f5",
   "metadata": {
    "scrolled": true
   },
   "outputs": [
    {
     "data": {
      "text/plain": [
       "<sklearn.metrics._plot.confusion_matrix.ConfusionMatrixDisplay at 0x14d632c5a80>"
      ]
     },
     "execution_count": 119,
     "metadata": {},
     "output_type": "execute_result"
    },
    {
     "data": {
      "image/png": "[encoded data removed]",
      "text/plain": [
       "<Figure size 640x480 with 2 Axes>"
      ]
     },
     "metadata": {},
     "output_type": "display_data"
    }
   ],
   "source": [
    "# Training Data\n",
    "plot_confusion_matrix(loan_model, x_train, y_train)"
   ]
  },
  {
   "cell_type": "code",
   "execution_count": 120,
   "id": "80f79d86",
   "metadata": {},
   "outputs": [
    {
     "data": {
      "text/plain": [
       "<sklearn.metrics._plot.confusion_matrix.ConfusionMatrixDisplay at 0x14d6306e4d0>"
      ]
     },
     "execution_count": 120,
     "metadata": {},
     "output_type": "execute_result"
    },
    {
     "data": {
      "image/png": "[encoded data removed]",
      "text/plain": [
       "<Figure size 640x480 with 2 Axes>"
      ]
     },
     "metadata": {},
     "output_type": "display_data"
    }
   ],
   "source": [
    "# Training Data\n",
    "plot_confusion_matrix(loan_model, x_test, y_test)"
   ]
  },
  {
   "cell_type": "code",
   "execution_count": 121,
   "id": "4620b3e4",
   "metadata": {},
   "outputs": [
    {
     "data": {
      "text/plain": [
       "0.8398886181691612"
      ]
     },
     "execution_count": 121,
     "metadata": {},
     "output_type": "execute_result"
    }
   ],
   "source": [
    "# Training Accuracy\n",
    "loan_model.score(x_train, y_train)"
   ]
  },
  {
   "cell_type": "code",
   "execution_count": 122,
   "id": "7a6f1842",
   "metadata": {},
   "outputs": [
    {
     "data": {
      "text/plain": [
       "0.8400313152400835"
      ]
     },
     "execution_count": 122,
     "metadata": {},
     "output_type": "execute_result"
    }
   ],
   "source": [
    "# Testing Accuracy\n",
    "loan_model.score(x_test, y_test)"
   ]
  },
  {
   "cell_type": "markdown",
   "id": "2012b3f9",
   "metadata": {},
   "source": [
    "# Model Evaluation"
   ]
  },
  {
   "cell_type": "code",
   "execution_count": 123,
   "id": "ea3aa9c5",
   "metadata": {},
   "outputs": [
    {
     "data": {
      "text/plain": [
       "array([0, 0, 0, ..., 0, 0, 0], dtype=int64)"
      ]
     },
     "execution_count": 123,
     "metadata": {},
     "output_type": "execute_result"
    }
   ],
   "source": [
    "# # prediction\n",
    "y_pred = loan_model.predict(x_test)\n",
    "y_pred"
   ]
  },
  {
   "cell_type": "code",
   "execution_count": 124,
   "id": "78a3c664",
   "metadata": {},
   "outputs": [
    {
     "data": {
      "text/plain": [
       "array([[0.83168292, 0.16831708],\n",
       "       [0.7805017 , 0.2194983 ],\n",
       "       [0.85000763, 0.14999237],\n",
       "       ...,\n",
       "       [0.86471358, 0.13528642],\n",
       "       [0.81682095, 0.18317905],\n",
       "       [0.80460026, 0.19539974]])"
      ]
     },
     "execution_count": 124,
     "metadata": {},
     "output_type": "execute_result"
    }
   ],
   "source": [
    "# prediction probability\n",
    "y_pred_proba = loan_model.predict_proba(x_test)\n",
    "y_pred_proba"
   ]
  },
  {
   "cell_type": "code",
   "execution_count": 125,
   "id": "988f9a00",
   "metadata": {},
   "outputs": [
    {
     "name": "stdout",
     "output_type": "stream",
     "text": [
      "Confusion Matrix:\n",
      " [[3219    0]\n",
      " [ 613    0]]\n",
      "*********************************************\n",
      "Accuracy Score: 0.8400313152400835\n",
      "*********************************************\n",
      "Classification report:\n",
      "               precision    recall  f1-score   support\n",
      "\n",
      "           0       0.84      1.00      0.91      3219\n",
      "           1       0.00      0.00      0.00       613\n",
      "\n",
      "    accuracy                           0.84      3832\n",
      "   macro avg       0.42      0.50      0.46      3832\n",
      "weighted avg       0.71      0.84      0.77      3832\n",
      "\n"
     ]
    }
   ],
   "source": [
    "# Testing data\n",
    "cnf_matrix = confusion_matrix(y_test, y_pred)\n",
    "print(\"Confusion Matrix:\\n\",cnf_matrix)\n",
    "\n",
    "print(\"*\"*45)\n",
    "accuracy = accuracy_score(y_test, y_pred)\n",
    "print(\"Accuracy Score:\",accuracy)\n",
    "print(\"*\"*45)\n",
    "\n",
    "clf_report = classification_report(y_test, y_pred)\n",
    "print(\"Classification report:\\n\",clf_report)"
   ]
  },
  {
   "cell_type": "code",
   "execution_count": 126,
   "id": "87c35bff",
   "metadata": {},
   "outputs": [
    {
     "name": "stdout",
     "output_type": "stream",
     "text": [
      "Confusion Matrix:\n",
      " [[4826    0]\n",
      " [ 920    0]]\n",
      "*********************************************\n",
      "Accuracy Score: 0.8398886181691612\n",
      "*********************************************\n",
      "Classification report:\n",
      "               precision    recall  f1-score   support\n",
      "\n",
      "           0       0.84      1.00      0.91      4826\n",
      "           1       0.00      0.00      0.00       920\n",
      "\n",
      "    accuracy                           0.84      5746\n",
      "   macro avg       0.42      0.50      0.46      5746\n",
      "weighted avg       0.71      0.84      0.77      5746\n",
      "\n"
     ]
    }
   ],
   "source": [
    "# Training data\n",
    "\n",
    "# prediction\n",
    "y_pred_train = loan_model.predict(x_train)\n",
    "\n",
    "cnf_matrix = confusion_matrix(y_train, y_pred_train)\n",
    "print(\"Confusion Matrix:\\n\",cnf_matrix)\n",
    "\n",
    "# Visualization\n",
    "\n",
    "print(\"*\"*45)\n",
    "accuracy = accuracy_score(y_train, y_pred_train)\n",
    "print(\"Accuracy Score:\",accuracy)\n",
    "print(\"*\"*45)\n",
    "\n",
    "clf_report = classification_report(y_train, y_pred_train)\n",
    "print(\"Classification report:\\n\",clf_report)"
   ]
  },
  {
   "cell_type": "markdown",
   "id": "b753ac7e",
   "metadata": {},
   "source": [
    "# AUC-ROC Curve"
   ]
  },
  {
   "cell_type": "code",
   "execution_count": 127,
   "id": "2d0218ae",
   "metadata": {},
   "outputs": [
    {
     "data": {
      "text/plain": [
       "array([0.14319436, 0.08124295, 0.14947193, ..., 0.10608905, 0.17610502,\n",
       "       0.0905355 ])"
      ]
     },
     "execution_count": 127,
     "metadata": {},
     "output_type": "execute_result"
    }
   ],
   "source": [
    "# prediction probability\n",
    "y_pred_proba = loan_model.predict_proba(x_train)\n",
    "y_pred_proba[:,1]  # We are getting class 1 probability"
   ]
  },
  {
   "cell_type": "code",
   "execution_count": 128,
   "id": "5f5e4af6",
   "metadata": {},
   "outputs": [],
   "source": [
    "fpr, tpr, thresh = roc_curve(y_train, y_pred_proba[:,1])"
   ]
  },
  {
   "cell_type": "code",
   "execution_count": 129,
   "id": "43682dee",
   "metadata": {},
   "outputs": [
    {
     "data": {
      "text/plain": [
       "Text(0.5, 1.0, 'Reciever Operating Characteristics')"
      ]
     },
     "execution_count": 129,
     "metadata": {},
     "output_type": "execute_result"
    },
    {
     "data": {
      "image/png": "[encoded data removed]",
      "text/plain": [
       "<Figure size 640x480 with 1 Axes>"
      ]
     },
     "metadata": {},
     "output_type": "display_data"
    }
   ],
   "source": [
    "# Plot AUC-ROC\n",
    "plt.plot(fpr,tpr)\n",
    "plt.xlabel(\"False Positive Rate -->\")\n",
    "plt.ylabel(\"True Positive Rate -->\")\n",
    "plt.title(\"Reciever Operating Characteristics\")"
   ]
  },
  {
   "cell_type": "markdown",
   "id": "1947fa40",
   "metadata": {},
   "source": [
    "# Training on single row"
   ]
  },
  {
   "cell_type": "code",
   "execution_count": 131,
   "id": "a4af1ba2",
   "metadata": {},
   "outputs": [
    {
     "data": {
      "text/html": [
       "<div>\n",
       "<style scoped>\n",
       "    .dataframe tbody tr th:only-of-type {\n",
       "        vertical-align: middle;\n",
       "    }\n",
       "\n",
       "    .dataframe tbody tr th {\n",
       "        vertical-align: top;\n",
       "    }\n",
       "\n",
       "    .dataframe thead th {\n",
       "        text-align: right;\n",
       "    }\n",
       "</style>\n",
       "<table border=\"1\" class=\"dataframe\">\n",
       "  <thead>\n",
       "    <tr style=\"text-align: right;\">\n",
       "      <th></th>\n",
       "      <th>0</th>\n",
       "    </tr>\n",
       "  </thead>\n",
       "  <tbody>\n",
       "    <tr>\n",
       "      <th>credit.policy</th>\n",
       "      <td>1.000000</td>\n",
       "    </tr>\n",
       "    <tr>\n",
       "      <th>purpose</th>\n",
       "      <td>2.000000</td>\n",
       "    </tr>\n",
       "    <tr>\n",
       "      <th>int.rate</th>\n",
       "      <td>0.118900</td>\n",
       "    </tr>\n",
       "    <tr>\n",
       "      <th>installment</th>\n",
       "      <td>829.100000</td>\n",
       "    </tr>\n",
       "    <tr>\n",
       "      <th>log.annual.inc</th>\n",
       "      <td>11.350407</td>\n",
       "    </tr>\n",
       "    <tr>\n",
       "      <th>dti</th>\n",
       "      <td>19.480000</td>\n",
       "    </tr>\n",
       "    <tr>\n",
       "      <th>fico</th>\n",
       "      <td>737.000000</td>\n",
       "    </tr>\n",
       "    <tr>\n",
       "      <th>days.with.cr.line</th>\n",
       "      <td>5639.958333</td>\n",
       "    </tr>\n",
       "    <tr>\n",
       "      <th>revol.bal</th>\n",
       "      <td>28854.000000</td>\n",
       "    </tr>\n",
       "    <tr>\n",
       "      <th>revol.util</th>\n",
       "      <td>52.100000</td>\n",
       "    </tr>\n",
       "    <tr>\n",
       "      <th>inq.last.6mths</th>\n",
       "      <td>0.000000</td>\n",
       "    </tr>\n",
       "    <tr>\n",
       "      <th>delinq.2yrs</th>\n",
       "      <td>0.000000</td>\n",
       "    </tr>\n",
       "    <tr>\n",
       "      <th>pub.rec</th>\n",
       "      <td>0.000000</td>\n",
       "    </tr>\n",
       "  </tbody>\n",
       "</table>\n",
       "</div>"
      ],
      "text/plain": [
       "                              0\n",
       "credit.policy          1.000000\n",
       "purpose                2.000000\n",
       "int.rate               0.118900\n",
       "installment          829.100000\n",
       "log.annual.inc        11.350407\n",
       "dti                   19.480000\n",
       "fico                 737.000000\n",
       "days.with.cr.line   5639.958333\n",
       "revol.bal          28854.000000\n",
       "revol.util            52.100000\n",
       "inq.last.6mths         0.000000\n",
       "delinq.2yrs            0.000000\n",
       "pub.rec                0.000000"
      ]
     },
     "execution_count": 131,
     "metadata": {},
     "output_type": "execute_result"
    }
   ],
   "source": [
    "x.head(1).T"
   ]
  },
  {
   "cell_type": "code",
   "execution_count": 132,
   "id": "8ea502e1",
   "metadata": {},
   "outputs": [
    {
     "data": {
      "text/plain": [
       "(13, 1)"
      ]
     },
     "execution_count": 132,
     "metadata": {},
     "output_type": "execute_result"
    }
   ],
   "source": [
    "x.head(1).T.shape"
   ]
  },
  {
   "cell_type": "code",
   "execution_count": 133,
   "id": "cd3ad839",
   "metadata": {},
   "outputs": [
    {
     "name": "stdout",
     "output_type": "stream",
     "text": [
      "Index(['credit.policy', 'purpose', 'int.rate', 'installment', 'log.annual.inc',\n",
      "       'dti', 'fico', 'days.with.cr.line', 'revol.bal', 'revol.util',\n",
      "       'inq.last.6mths', 'delinq.2yrs', 'pub.rec'],\n",
      "      dtype='object')\n"
     ]
    }
   ],
   "source": [
    "columns = x.columns\n",
    "print(columns)"
   ]
  },
  {
   "cell_type": "code",
   "execution_count": 134,
   "id": "e236707b",
   "metadata": {},
   "outputs": [
    {
     "data": {
      "text/plain": [
       "13"
      ]
     },
     "execution_count": 134,
     "metadata": {},
     "output_type": "execute_result"
    }
   ],
   "source": [
    "len(columns)"
   ]
  },
  {
   "cell_type": "code",
   "execution_count": 135,
   "id": "31c268e1",
   "metadata": {},
   "outputs": [],
   "source": [
    "cre_pol_dict = {'LendingClub.com':1,'otherwise':0}\n",
    "purpose_dict = {'debt_consolidation': 2,'all_other': 0,'credit_card': 1,'home_improvement': 4,\n",
    "                'small_business': 6,'major_purchase': 5,'educational': 3}"
   ]
  },
  {
   "cell_type": "code",
   "execution_count": 148,
   "id": "0654317e",
   "metadata": {},
   "outputs": [],
   "source": [
    "# user intput\n",
    "credit_policy = 'LendingClub.com'\n",
    "purpose = 'small_business'\n",
    "int_rate = 0.118900\n",
    "installment = 829.10\n",
    "log_annual_inc = 11.35\n",
    "dti = 19.48\n",
    "fico = 737\n",
    "days_with_cr_line = 5639.95\n",
    "revol_bal = 28854\n",
    "revol_util = 52.10\n",
    "inq_last_six_mths = 6\n",
    "delinq_two_yrs = 2\n",
    "pub_rec = 1\n"
   ]
  },
  {
   "cell_type": "code",
   "execution_count": 149,
   "id": "711a203c",
   "metadata": {},
   "outputs": [
    {
     "data": {
      "text/plain": [
       "Index(['credit.policy', 'purpose', 'int.rate', 'installment', 'log.annual.inc',\n",
       "       'dti', 'fico', 'days.with.cr.line', 'revol.bal', 'revol.util',\n",
       "       'inq.last.6mths', 'delinq.2yrs', 'pub.rec'],\n",
       "      dtype='object')"
      ]
     },
     "execution_count": 149,
     "metadata": {},
     "output_type": "execute_result"
    }
   ],
   "source": [
    "columns"
   ]
  },
  {
   "cell_type": "code",
   "execution_count": 150,
   "id": "ff324b0e",
   "metadata": {},
   "outputs": [
    {
     "data": {
      "text/plain": [
       "array([0, 0, 0, 0, 0, 0, 0, 0, 0, 0, 0, 0, 0])"
      ]
     },
     "execution_count": 150,
     "metadata": {},
     "output_type": "execute_result"
    }
   ],
   "source": [
    "array = np.zeros(columns.shape[0],dtype = int)\n",
    "array"
   ]
  },
  {
   "cell_type": "code",
   "execution_count": 151,
   "id": "70405774",
   "metadata": {},
   "outputs": [
    {
     "data": {
      "text/plain": [
       "13"
      ]
     },
     "execution_count": 151,
     "metadata": {},
     "output_type": "execute_result"
    }
   ],
   "source": [
    "len(columns)"
   ]
  },
  {
   "cell_type": "code",
   "execution_count": 152,
   "id": "cf764078",
   "metadata": {},
   "outputs": [
    {
     "data": {
      "text/plain": [
       "array([    1,     6,     0,   829,    11,    19,   737,  5639, 28854,\n",
       "          52,     6,     2,     1])"
      ]
     },
     "execution_count": 152,
     "metadata": {},
     "output_type": "execute_result"
    }
   ],
   "source": [
    "array = np.zeros(columns.shape[0],dtype = int)\n",
    "array[0] = cre_pol_dict[credit_policy]\n",
    "array[1] = purpose_dict[purpose]\n",
    "array[2] = int_rate\n",
    "array[3] = installment\n",
    "array[4] = log_annual_inc\n",
    "array[5] = dti\n",
    "array[6] = fico\n",
    "array[7] = days_with_cr_line\n",
    "array[8] = revol_bal\n",
    "array[9] = revol_util\n",
    "array[10] = inq_last_six_mths\n",
    "array[11] = delinq_two_yrs\n",
    "array[12] = pub_rec\n",
    "\n",
    "array"
   ]
  },
  {
   "cell_type": "code",
   "execution_count": 153,
   "id": "562a42e4",
   "metadata": {},
   "outputs": [
    {
     "name": "stdout",
     "output_type": "stream",
     "text": [
      "You have not paid the loan.\n"
     ]
    }
   ],
   "source": [
    "predicted_loan = loan_model.predict([array])[0]\n",
    "if predicted_loan == 0:\n",
    "    print('You have not paid the loan.')\n",
    "else:\n",
    "    print('You have paid off the loan.')\n",
    "# print(f\"{predicted_disease} patient has a heart disease\")"
   ]
  },
  {
   "cell_type": "code",
   "execution_count": 154,
   "id": "a7016e54",
   "metadata": {},
   "outputs": [
    {
     "data": {
      "text/plain": [
       "{'cre_pol_dict': {'LendingClub.com': 1, 'otherwise': 0},\n",
       " 'purpose_dict': {'debt_consolidation': 2,\n",
       "  'all_other': 0,\n",
       "  'credit_card': 1,\n",
       "  'home_improvement': 4,\n",
       "  'small_business': 6,\n",
       "  'major_purchase': 5,\n",
       "  'educational': 3},\n",
       " 'columns': ['credit.policy',\n",
       "  'purpose',\n",
       "  'int.rate',\n",
       "  'installment',\n",
       "  'log.annual.inc',\n",
       "  'dti',\n",
       "  'fico',\n",
       "  'days.with.cr.line',\n",
       "  'revol.bal',\n",
       "  'revol.util',\n",
       "  'inq.last.6mths',\n",
       "  'delinq.2yrs',\n",
       "  'pub.rec']}"
      ]
     },
     "execution_count": 154,
     "metadata": {},
     "output_type": "execute_result"
    }
   ],
   "source": [
    "# store all this column is json \n",
    "loan_data  = {\"cre_pol_dict\":cre_pol_dict,\"purpose_dict\":purpose_dict,\"columns\":list(columns)}\n",
    "loan_data"
   ]
  },
  {
   "cell_type": "code",
   "execution_count": 156,
   "id": "eb93fad6",
   "metadata": {},
   "outputs": [],
   "source": [
    "import json\n",
    "\n",
    "with open(\"loan_data.json\", \"w\") as f:\n",
    "    json.dump(loan_data, f)"
   ]
  },
  {
   "cell_type": "code",
   "execution_count": 157,
   "id": "e944239a",
   "metadata": {},
   "outputs": [],
   "source": [
    "# Save Model in Pickle File\n",
    "import pickle\n",
    "\n",
    "with open(\"loan_model.pkl\", \"wb\") as f:\n",
    "    pickle.dump(loan_model, f)"
   ]
  }
 ],
 "metadata": {
  "kernelspec": {
   "display_name": "Python 3 (ipykernel)",
   "language": "python",
   "name": "python3"
  },
  "language_info": {
   "codemirror_mode": {
    "name": "ipython",
    "version": 3
   },
   "file_extension": ".py",
   "mimetype": "text/x-python",
   "name": "python",
   "nbconvert_exporter": "python",
   "pygments_lexer": "ipython3",
   "version": "3.10.5"
  }
 },
 "nbformat": 4,
 "nbformat_minor": 5
}
